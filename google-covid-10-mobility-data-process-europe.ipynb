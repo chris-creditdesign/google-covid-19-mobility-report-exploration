{
 "cells": [
  {
   "cell_type": "markdown",
   "metadata": {},
   "source": [
    "# google-covid-19-mobility-data-process-europe\n",
    "\n",
    "In this notebook I will refine the process from `google-covid-19-mobility-data-process-v1` in order to get the highest resolution data possible for a map of Europe."
   ]
  },
  {
   "cell_type": "code",
   "execution_count": 1,
   "metadata": {},
   "outputs": [],
   "source": [
    "import pandas as pd\n",
    "import requests\n",
    "import simplejson as json\n",
    "import numpy as np"
   ]
  },
  {
   "cell_type": "markdown",
   "metadata": {},
   "source": [
    "---\n",
    "\n",
    "## Load a reduced CSV containing just the United States entries"
   ]
  },
  {
   "cell_type": "code",
   "execution_count": 2,
   "metadata": {},
   "outputs": [],
   "source": [
    "europeDf = pd.read_csv(\"./output-data/europe.csv\")"
   ]
  },
  {
   "cell_type": "code",
   "execution_count": 3,
   "metadata": {},
   "outputs": [
    {
     "data": {
      "text/html": [
       "<div>\n",
       "<style scoped>\n",
       "    .dataframe tbody tr th:only-of-type {\n",
       "        vertical-align: middle;\n",
       "    }\n",
       "\n",
       "    .dataframe tbody tr th {\n",
       "        vertical-align: top;\n",
       "    }\n",
       "\n",
       "    .dataframe thead th {\n",
       "        text-align: right;\n",
       "    }\n",
       "</style>\n",
       "<table border=\"1\" class=\"dataframe\">\n",
       "  <thead>\n",
       "    <tr style=\"text-align: right;\">\n",
       "      <th></th>\n",
       "      <th>country_region_code</th>\n",
       "      <th>country_region</th>\n",
       "      <th>sub_region_1</th>\n",
       "      <th>sub_region_2</th>\n",
       "      <th>metro_area</th>\n",
       "      <th>iso_3166_2_code</th>\n",
       "      <th>census_fips_code</th>\n",
       "      <th>place_id</th>\n",
       "      <th>date</th>\n",
       "      <th>retail_and_recreation_percent_change_from_baseline</th>\n",
       "      <th>grocery_and_pharmacy_percent_change_from_baseline</th>\n",
       "      <th>parks_percent_change_from_baseline</th>\n",
       "      <th>transit_stations_percent_change_from_baseline</th>\n",
       "      <th>workplaces_percent_change_from_baseline</th>\n",
       "      <th>residential_percent_change_from_baseline</th>\n",
       "    </tr>\n",
       "  </thead>\n",
       "  <tbody>\n",
       "    <tr>\n",
       "      <td>0</td>\n",
       "      <td>AT</td>\n",
       "      <td>Austria</td>\n",
       "      <td>NaN</td>\n",
       "      <td>NaN</td>\n",
       "      <td>NaN</td>\n",
       "      <td>NaN</td>\n",
       "      <td>NaN</td>\n",
       "      <td>ChIJfyqdJZsHbUcRr8Hk3XvUEhA</td>\n",
       "      <td>2020-02-15</td>\n",
       "      <td>9.0</td>\n",
       "      <td>1.0</td>\n",
       "      <td>42.0</td>\n",
       "      <td>13.0</td>\n",
       "      <td>0.0</td>\n",
       "      <td>-2.0</td>\n",
       "    </tr>\n",
       "    <tr>\n",
       "      <td>1</td>\n",
       "      <td>AT</td>\n",
       "      <td>Austria</td>\n",
       "      <td>NaN</td>\n",
       "      <td>NaN</td>\n",
       "      <td>NaN</td>\n",
       "      <td>NaN</td>\n",
       "      <td>NaN</td>\n",
       "      <td>ChIJfyqdJZsHbUcRr8Hk3XvUEhA</td>\n",
       "      <td>2020-02-16</td>\n",
       "      <td>15.0</td>\n",
       "      <td>21.0</td>\n",
       "      <td>42.0</td>\n",
       "      <td>12.0</td>\n",
       "      <td>1.0</td>\n",
       "      <td>-2.0</td>\n",
       "    </tr>\n",
       "    <tr>\n",
       "      <td>2</td>\n",
       "      <td>AT</td>\n",
       "      <td>Austria</td>\n",
       "      <td>NaN</td>\n",
       "      <td>NaN</td>\n",
       "      <td>NaN</td>\n",
       "      <td>NaN</td>\n",
       "      <td>NaN</td>\n",
       "      <td>ChIJfyqdJZsHbUcRr8Hk3XvUEhA</td>\n",
       "      <td>2020-02-17</td>\n",
       "      <td>9.0</td>\n",
       "      <td>5.0</td>\n",
       "      <td>35.0</td>\n",
       "      <td>3.0</td>\n",
       "      <td>-4.0</td>\n",
       "      <td>0.0</td>\n",
       "    </tr>\n",
       "    <tr>\n",
       "      <td>3</td>\n",
       "      <td>AT</td>\n",
       "      <td>Austria</td>\n",
       "      <td>NaN</td>\n",
       "      <td>NaN</td>\n",
       "      <td>NaN</td>\n",
       "      <td>NaN</td>\n",
       "      <td>NaN</td>\n",
       "      <td>ChIJfyqdJZsHbUcRr8Hk3XvUEhA</td>\n",
       "      <td>2020-02-18</td>\n",
       "      <td>8.0</td>\n",
       "      <td>5.0</td>\n",
       "      <td>40.0</td>\n",
       "      <td>2.0</td>\n",
       "      <td>-4.0</td>\n",
       "      <td>0.0</td>\n",
       "    </tr>\n",
       "    <tr>\n",
       "      <td>4</td>\n",
       "      <td>AT</td>\n",
       "      <td>Austria</td>\n",
       "      <td>NaN</td>\n",
       "      <td>NaN</td>\n",
       "      <td>NaN</td>\n",
       "      <td>NaN</td>\n",
       "      <td>NaN</td>\n",
       "      <td>ChIJfyqdJZsHbUcRr8Hk3XvUEhA</td>\n",
       "      <td>2020-02-19</td>\n",
       "      <td>4.0</td>\n",
       "      <td>2.0</td>\n",
       "      <td>10.0</td>\n",
       "      <td>-1.0</td>\n",
       "      <td>-5.0</td>\n",
       "      <td>1.0</td>\n",
       "    </tr>\n",
       "  </tbody>\n",
       "</table>\n",
       "</div>"
      ],
      "text/plain": [
       "  country_region_code country_region sub_region_1 sub_region_2  metro_area  \\\n",
       "0                  AT        Austria          NaN          NaN         NaN   \n",
       "1                  AT        Austria          NaN          NaN         NaN   \n",
       "2                  AT        Austria          NaN          NaN         NaN   \n",
       "3                  AT        Austria          NaN          NaN         NaN   \n",
       "4                  AT        Austria          NaN          NaN         NaN   \n",
       "\n",
       "  iso_3166_2_code  census_fips_code                     place_id        date  \\\n",
       "0             NaN               NaN  ChIJfyqdJZsHbUcRr8Hk3XvUEhA  2020-02-15   \n",
       "1             NaN               NaN  ChIJfyqdJZsHbUcRr8Hk3XvUEhA  2020-02-16   \n",
       "2             NaN               NaN  ChIJfyqdJZsHbUcRr8Hk3XvUEhA  2020-02-17   \n",
       "3             NaN               NaN  ChIJfyqdJZsHbUcRr8Hk3XvUEhA  2020-02-18   \n",
       "4             NaN               NaN  ChIJfyqdJZsHbUcRr8Hk3XvUEhA  2020-02-19   \n",
       "\n",
       "   retail_and_recreation_percent_change_from_baseline  \\\n",
       "0                                                9.0    \n",
       "1                                               15.0    \n",
       "2                                                9.0    \n",
       "3                                                8.0    \n",
       "4                                                4.0    \n",
       "\n",
       "   grocery_and_pharmacy_percent_change_from_baseline  \\\n",
       "0                                                1.0   \n",
       "1                                               21.0   \n",
       "2                                                5.0   \n",
       "3                                                5.0   \n",
       "4                                                2.0   \n",
       "\n",
       "   parks_percent_change_from_baseline  \\\n",
       "0                                42.0   \n",
       "1                                42.0   \n",
       "2                                35.0   \n",
       "3                                40.0   \n",
       "4                                10.0   \n",
       "\n",
       "   transit_stations_percent_change_from_baseline  \\\n",
       "0                                           13.0   \n",
       "1                                           12.0   \n",
       "2                                            3.0   \n",
       "3                                            2.0   \n",
       "4                                           -1.0   \n",
       "\n",
       "   workplaces_percent_change_from_baseline  \\\n",
       "0                                      0.0   \n",
       "1                                      1.0   \n",
       "2                                     -4.0   \n",
       "3                                     -4.0   \n",
       "4                                     -5.0   \n",
       "\n",
       "   residential_percent_change_from_baseline  \n",
       "0                                      -2.0  \n",
       "1                                      -2.0  \n",
       "2                                       0.0  \n",
       "3                                       0.0  \n",
       "4                                       1.0  "
      ]
     },
     "execution_count": 3,
     "metadata": {},
     "output_type": "execute_result"
    }
   ],
   "source": [
    "europeDf.head()"
   ]
  },
  {
   "cell_type": "markdown",
   "metadata": {},
   "source": [
    "---\n",
    "\n",
    "**`sub_reigon_1` is regions**"
   ]
  },
  {
   "cell_type": "code",
   "execution_count": 6,
   "metadata": {},
   "outputs": [
    {
     "data": {
      "text/plain": [
       "array([nan, 'Burgenland', 'Carinthia', 'Lower Austria', 'Salzburg',\n",
       "       'Styria', 'Tyrol', 'Upper Austria', 'Vienna', 'Vorarlberg',\n",
       "       'Brussels', 'Flanders', 'Wallonia', 'Blagoevgrad Province',\n",
       "       'Burgas', 'Dobrich Province', 'Gabrovo', 'Haskovo Province',\n",
       "       'Jambol', 'Kardzhali Province', 'Kyustendil Province', 'Lovec',\n",
       "       'Montana Province', 'Pazardzhik', 'Pernik', 'Pleven Province',\n",
       "       'Plovdiv Province', 'Razgrad', 'Ruse', 'Shumen Province',\n",
       "       'Silistra', 'Sliven Province', 'Smoljan', 'Sofia City Province',\n",
       "       'Sofia Province', 'Stara Zagora', 'Targovishte Province', 'Varna',\n",
       "       'Veliko Tarnovo Province', 'Vidin', 'Vraca',\n",
       "       'Central Bohemian Region', 'Hradec Králové Region',\n",
       "       'Karlovy Vary Region', 'Liberec Region',\n",
       "       'Moravian-Silesian Region', 'Olomouc Region', 'Pardubice Region',\n",
       "       'Plzeň Region', 'Prague', 'South Bohemian Region',\n",
       "       'South Moravian Region', 'Ústí nad Labem Region',\n",
       "       'Vysočina Region', 'Zlín Region', 'Baden-Württemberg', 'Bavaria',\n",
       "       'Berlin', 'Brandenburg', 'Bremen', 'Hamburg', 'Hessen',\n",
       "       'Lower Saxony', 'Mecklenburg-Vorpommern', 'North Rhine-Westphalia',\n",
       "       'Rhineland-Palatinate', 'Saarland', 'Saxony', 'Saxony-Anhalt',\n",
       "       'Schleswig-Holstein', 'Thuringia', 'Capital Region of Denmark',\n",
       "       'Central Denmark Region', 'North Denmark Region',\n",
       "       'Region of Southern Denmark', 'Region Zealand', 'Harju County',\n",
       "       'Hiiu County', 'Ida-Viru County', 'Järva County', 'Jõgeva County',\n",
       "       'Lääne County', 'Lääne-Viru County', 'Pärnu County',\n",
       "       'Põlva County', 'Rapla County', 'Saare County', 'Tartu County',\n",
       "       'Valga County', 'Viljandi County', 'Võru County', 'Andalusia',\n",
       "       'Aragon', 'Asturias', 'Balearic Islands', 'Basque Country',\n",
       "       'Canary Islands', 'Cantabria', 'Castile and León',\n",
       "       'Castile-La Mancha', 'Catalonia', 'Ceuta', 'Community of Madrid',\n",
       "       'Extremadura', 'Galicia', 'La Rioja', 'Melilla', 'Navarre',\n",
       "       'Region of Murcia', 'Valencian Community', 'Central Finland',\n",
       "       'Central Ostrobothnia', 'Kainuu', 'Kymenlaakso', 'Lapland',\n",
       "       'North Karelia', 'Northern Ostrobothnia', 'Northern Savonia',\n",
       "       'Ostrobothnia', 'Päijänne Tavastia', 'Pirkanmaa', 'Satakunta',\n",
       "       'South Karelia', 'Southern Ostrobothnia', 'Southern Savonia',\n",
       "       'Southwest Finland', 'Tavastia Proper', 'Uusimaa',\n",
       "       'Auvergne-Rhône-Alpes', 'Bourgogne-Franche-Comté', 'Brittany',\n",
       "       'Centre-Val de Loire', 'Corsica', 'Grand Est', 'Hauts-de-France',\n",
       "       'Île-de-France', 'Normandy', 'Nouvelle-Aquitaine', 'Occitanie',\n",
       "       'Pays de la Loire', \"Provence-Alpes-Côte d'Azur\", 'Aberdeen City',\n",
       "       'Aberdeenshire', 'Angus Council', 'Antrim and Newtownabbey',\n",
       "       'Ards and North Down', 'Argyll and Bute Council',\n",
       "       'Armagh City, Banbridge and Craigavon',\n",
       "       'Bath and North East Somerset', 'Bedford', 'Belfast',\n",
       "       'Blackburn with Darwen', 'Blackpool', 'Blaenau Gwent',\n",
       "       'Borough of Halton', 'Bracknell Forest', 'Bridgend County Borough',\n",
       "       'Brighton and Hove', 'Bristol City', 'Buckinghamshire',\n",
       "       'Caerphilly County Borough', 'Cambridgeshire', 'Cardiff',\n",
       "       'Carmarthenshire', 'Causeway Coast and Glens',\n",
       "       'Central Bedfordshire', 'Ceredigion', 'Cheshire East',\n",
       "       'Cheshire West and Chester', 'Clackmannanshire',\n",
       "       'Conwy Principal Area', 'Cornwall', 'County Durham', 'Cumbria',\n",
       "       'Darlington', 'Denbighshire', 'Derby', 'Derbyshire',\n",
       "       'Derry and Strabane', 'Devon', 'Dorset', 'Dumfries and Galloway',\n",
       "       'Dundee City Council', 'East Ayrshire Council',\n",
       "       'East Dunbartonshire Council', 'East Lothian Council',\n",
       "       'East Renfrewshire Council', 'East Riding of Yorkshire',\n",
       "       'East Sussex', 'Edinburgh', 'Essex', 'Falkirk',\n",
       "       'Fermanagh and Omagh', 'Fife', 'Flintshire', 'Glasgow City',\n",
       "       'Gloucestershire', 'Greater London', 'Greater Manchester',\n",
       "       'Gwynedd', 'Hampshire', 'Hartlepool', 'Herefordshire',\n",
       "       'Hertfordshire', 'Highland Council', 'Inverclyde',\n",
       "       'Isle of Anglesey', 'Isle of Wight', 'Kent', 'Kingston upon Hull',\n",
       "       'Lancashire', 'Leicester', 'Leicestershire', 'Lincolnshire',\n",
       "       'Lisburn and Castlereagh', 'Luton', 'Medway', 'Merseyside',\n",
       "       'Merthyr Tydfil County Borough', 'Mid and East Antrim',\n",
       "       'Mid Ulster', 'Middlesbrough', 'Midlothian', 'Milton Keynes',\n",
       "       'Monmouthshire', 'Moray', 'Na h-Eileanan an Iar',\n",
       "       'Neath Port Talbot Principle Area', 'Newport',\n",
       "       'Newry, Mourne and Down', 'Norfolk', 'North Ayrshire Council',\n",
       "       'North East Lincolnshire', 'North Lanarkshire',\n",
       "       'North Lincolnshire', 'North Somerset', 'North Yorkshire',\n",
       "       'Northamptonshire', 'Northumberland', 'Nottingham',\n",
       "       'Nottinghamshire', 'Orkney', 'Oxfordshire', 'Pembrokeshire',\n",
       "       'Perth and Kinross', 'Peterborough', 'Plymouth', 'Portsmouth',\n",
       "       'Powys', 'Reading', 'Redcar and Cleveland', 'Renfrewshire',\n",
       "       'Rhondda Cynon Taff', 'Rutland', 'Scottish Borders',\n",
       "       'Shetland Islands', 'Shropshire', 'Slough', 'Somerset',\n",
       "       'South Ayrshire Council', 'South Gloucestershire',\n",
       "       'South Lanarkshire', 'South Yorkshire', 'Southampton',\n",
       "       'Southend-on-Sea', 'Staffordshire', 'Stirling', 'Stockton-on-Tees',\n",
       "       'Stoke-on-Trent', 'Suffolk', 'Surrey', 'Swansea', 'Swindon',\n",
       "       'Thurrock', 'Torbay', 'Torfaen Principal Area', 'Tyne and Wear',\n",
       "       'Vale of Glamorgan', 'Warrington', 'Warwickshire',\n",
       "       'West Berkshire', 'West Dunbartonshire Council', 'West Lothian',\n",
       "       'West Midlands', 'West Sussex', 'West Yorkshire', 'Wiltshire',\n",
       "       'Windsor and Maidenhead', 'Wokingham', 'Worcestershire',\n",
       "       'Wrexham Principal Area', 'York',\n",
       "       'Decentralized Administration of Attica',\n",
       "       'Decentralized Administration of Crete',\n",
       "       'Decentralized Administration of Epirus and Western Macedonia',\n",
       "       'Decentralized Administration of Macedonia and Thrace',\n",
       "       'Decentralized Administration of Peloponnese, Western Greece and the Ionian',\n",
       "       'Decentralized Administration of the Aegean',\n",
       "       'Decentralized Administration of Thessaly and Central Greece',\n",
       "       'Bjelovar-Bilogora County', 'Brod-Posavina County',\n",
       "       'City of Zagreb', 'Dubrovnik-Neretva County', 'Istria County',\n",
       "       'Karlovac County', 'Koprivnica-Križevci County',\n",
       "       'Krapina-Zagorje County', 'Lika-Senj County', 'Međimurje County',\n",
       "       'Osijek-Baranja County', 'Požega-Slavonia County',\n",
       "       'Primorje-Gorski Kotar County', 'Šibenik-Knin County',\n",
       "       'Sisak-Moslavina County', 'Split-Dalmatia County',\n",
       "       'Varaždin County', 'Virovitica-Podravina County',\n",
       "       'Vukovar-Srijem County', 'Zadar County', 'Zagreb County',\n",
       "       'Bács-Kiskun', 'Baranya', 'Békés County', 'Borsod-Abaúj-Zemplén',\n",
       "       'Budapest', 'Csongrád', 'Fejér', 'Gyor-Moson-Sopron',\n",
       "       'Hajdú-Bihar', 'Heves County', 'Jász-Nagykun-Szolnok',\n",
       "       'Komárom-Esztergom', 'Nógrád County', 'Pest County',\n",
       "       'Somogy County', 'Szabolcs-Szatmár-Bereg', 'Tolna County',\n",
       "       'Vas County', 'Veszprém', 'Zala County', 'County Carlow',\n",
       "       'County Cavan', 'County Clare', 'County Cork', 'County Donegal',\n",
       "       'County Dublin', 'County Galway', 'County Kerry', 'County Kildare',\n",
       "       'County Kilkenny', 'County Laois', 'County Leitrim',\n",
       "       'County Limerick', 'County Longford', 'County Louth',\n",
       "       'County Mayo', 'County Meath', 'County Monaghan', 'County Offaly',\n",
       "       'County Roscommon', 'County Sligo', 'County Tipperary',\n",
       "       'County Waterford', 'County Westmeath', 'County Wexford',\n",
       "       'County Wicklow', 'Abruzzo', 'Aosta', 'Apulia', 'Basilicata',\n",
       "       'Calabria', 'Campania', 'Emilia-Romagna', 'Friuli-Venezia Giulia',\n",
       "       'Lazio', 'Liguria', 'Lombardy', 'Marche', 'Molise', 'Piedmont',\n",
       "       'Sardinia', 'Sicily', 'Trentino-South Tyrol', 'Tuscany', 'Umbria',\n",
       "       'Veneto', 'Alytus County', 'Kaunas County', 'Klaipėda County',\n",
       "       'Marijampolė County', 'Panevėžys County', 'Šiauliai County',\n",
       "       'Tauragė County', 'Telšiai County', 'Utena County',\n",
       "       'Vilnius County', 'Ādaži Municipality', 'Aizkraukle Municipality',\n",
       "       'Aloja Municipality', 'Alūksne Municipality',\n",
       "       'Babīte Municipality', 'Baldone Municipality',\n",
       "       'Balvi Municipality', 'Bauska Municipality',\n",
       "       'Burtnieki Municipality', 'Carnikava Municipality',\n",
       "       'Cēsis Municipality', 'City of Liepāja', 'Daugavpils',\n",
       "       'Daugavpils Municipality', 'Dobele Municipality',\n",
       "       'Engure Municipality', 'Garkalne Municipality',\n",
       "       'Grobiņa Municipality', 'Gulbene Municipality',\n",
       "       'Iecava Municipality', 'Ikšķile Municipality',\n",
       "       'Inčukalns Municipality', 'Jēkabpils', 'Jēkabpils Municipality',\n",
       "       'Jelgava', 'Jelgava Municipality', 'Jūrmala',\n",
       "       'Ķegums Municipality', 'Ķekava Municipality',\n",
       "       'Kocēni Municipality', 'Krāslava Municipality',\n",
       "       'Krimulda Municipality', 'Kuldīga Municipality',\n",
       "       'Lielvārde Municipality', 'Limbaži Municipality',\n",
       "       'Madona Municipality', 'Mārupe Municipality', 'Ogre Municipality',\n",
       "       'Olaine Municipality', 'Ozolnieki Municipality',\n",
       "       'Preiļi Municipality', 'Priekuļi Municipality', 'Rēzekne',\n",
       "       'Rēzekne Municipality', 'Riga', 'Ropaži Municipality',\n",
       "       'Salacgrīva Municipality', 'Salaspils Municipality',\n",
       "       'Saldus Municipality', 'Saulkrasti Municipality',\n",
       "       'Sigulda Municipality', 'Smiltene Municipality',\n",
       "       'Stopiņi Municipality', 'Talsi Municipality',\n",
       "       'Tukums Municipality', 'Valmiera', 'Ventspils',\n",
       "       'Ventspils Municipality', 'Drenthe', 'Flevoland', 'Friesland',\n",
       "       'Gelderland', 'Groningen', 'Limburg', 'North Brabant',\n",
       "       'North Holland', 'Overijssel', 'South Holland', 'Utrecht',\n",
       "       'Zeeland', 'Greater Poland Voivodeship',\n",
       "       'Kuyavian-Pomeranian Voivodeship', 'Lesser Poland Voivodeship',\n",
       "       'Łódź Voivodeship', 'Lower Silesian Voivodeship',\n",
       "       'Lublin Voivodeship', 'Lubusz Voivodeship', 'Masovian Voivodeship',\n",
       "       'Opole Voivodeship', 'Podkarpackie Voivodeship',\n",
       "       'Podlaskie Voivodeship', 'Pomeranian Voivodeship',\n",
       "       'Silesian Voivodeship', 'Świętokrzyskie Voivodeship',\n",
       "       'Warmian-Masurian Voivodeship', 'West Pomeranian Voivodeship',\n",
       "       'Aveiro District', 'Azores', 'Beja District', 'Braga',\n",
       "       'Bragança District', 'Castelo Branco District', 'Coimbra District',\n",
       "       'Évora District', 'Faro District', 'Guarda District',\n",
       "       'Leiria District', 'Lisbon', 'Madeira', 'Portalegre District',\n",
       "       'Porto District', 'Santarém District', 'Setubal',\n",
       "       'Viana do Castelo District', 'Vila Real District',\n",
       "       'Viseu District', 'Alba County', 'Arad County', 'Argeș County',\n",
       "       'Bacău County', 'Bihor County', 'Bistrița-Năsăud County',\n",
       "       'Botoșani County', 'Brăila County', 'Brașov County', 'Bucharest',\n",
       "       'Buzău County', 'Călărași County', 'Caraș-Severin County',\n",
       "       'Cluj County', 'Constanța County', 'Covasna County',\n",
       "       'Dâmbovița County', 'Dolj County', 'Galați', 'Giurgiu County',\n",
       "       'Gorj County', 'Harghita County', 'Hunedoara County',\n",
       "       'Ialomița County', 'Iași County', 'Ilfov County',\n",
       "       'Maramureș County', 'Mehedinți County', 'Mureș County',\n",
       "       'Neamț County', 'Olt County', 'Prahova', 'Sălaj',\n",
       "       'Satu Mare County', 'Sibiu', 'Suceava County', 'Teleorman County',\n",
       "       'Timiș County', 'Tulcea County', 'Vâlcea County', 'Vaslui County',\n",
       "       'Vrancea County', 'Blekinge County', 'Dalarna County',\n",
       "       'Gavleborg County', 'Gotland County', 'Halland County',\n",
       "       'Jamtland County', 'Jonkoping County', 'Kalmar County',\n",
       "       'Kronoberg County', 'Norrbotten County', 'Örebro County',\n",
       "       'Östergötland County', 'Skåne County', 'Södermanland County',\n",
       "       'Stockholm County', 'Uppsala County', 'Varmland County',\n",
       "       'Västerbotten County', 'Västernorrland County',\n",
       "       'Västmanland County', 'Västra Götaland County',\n",
       "       'Administrative unit Maribor', 'Ajdovščina', 'Brežice', 'Celje',\n",
       "       'Cerknica', 'Črnomelj', 'Domžale', 'Dravograd', 'Gornja Radgona',\n",
       "       'Grosuplje', 'Idrija', 'Ilirska Bistrica', 'Izola', 'Jesenice',\n",
       "       'Kamnik', 'Kočevje', 'Koper', 'Kranj', 'Krško', 'Laško', 'Lenart',\n",
       "       'Lendava', 'Litija', 'Ljubljana', 'Ljutomer', 'Logatec', 'Metlika',\n",
       "       'Mozirje', 'Municipality of Hrastnik', 'Murska Sobota',\n",
       "       'Nova Gorica', 'Novo Mesto', 'Ormož', 'Pesnica', 'Piran',\n",
       "       'Postojna', 'Ptuj', 'Radlje ob Dravi', 'Radovljica',\n",
       "       'Ravne na Koroškem', 'Ribnica', 'Ruše', 'Šentjur', 'Sevnica',\n",
       "       'Sežana', 'Škofja Loka', 'Slovenj Gradec', 'Slovenska Bistrica',\n",
       "       'Slovenske Konjice', 'Šmarje pri Jelšah', 'Tolmin', 'Trbovlje',\n",
       "       'Trebnje', 'Tržič', 'Velenje', 'Vrhnika', 'Zagorje ob Savi',\n",
       "       'Žalec', 'Banská Bystrica Region', 'Bratislava Region',\n",
       "       'Košice Region', 'Nitra Region', 'Prešov Region', 'Trenčín Region',\n",
       "       'Trnava Region', 'Žilina Region'], dtype=object)"
      ]
     },
     "execution_count": 6,
     "metadata": {},
     "output_type": "execute_result"
    }
   ],
   "source": [
    "europeDf[\"sub_region_1\"].unique()"
   ]
  },
  {
   "cell_type": "markdown",
   "metadata": {},
   "source": [
    "---\n",
    "\n",
    "**`sub_region_2` is counties - of which there are 2,673**"
   ]
  },
  {
   "cell_type": "code",
   "execution_count": 7,
   "metadata": {},
   "outputs": [
    {
     "data": {
      "text/plain": [
       "array([nan, 'Eisenstadt', 'Eisenstadt-Umgebung District', ...,\n",
       "       'Turčianske Teplice District', 'Tvrdošín District',\n",
       "       'Žilina District'], dtype=object)"
      ]
     },
     "execution_count": 7,
     "metadata": {},
     "output_type": "execute_result"
    }
   ],
   "source": [
    "europeDf[\"sub_region_2\"].unique()"
   ]
  },
  {
   "cell_type": "code",
   "execution_count": 9,
   "metadata": {},
   "outputs": [
    {
     "data": {
      "text/plain": [
       "2673"
      ]
     },
     "execution_count": 9,
     "metadata": {},
     "output_type": "execute_result"
    }
   ],
   "source": [
    "len(europeDf[\"sub_region_2\"].unique())"
   ]
  },
  {
   "cell_type": "markdown",
   "metadata": {},
   "source": [
    "---\n",
    "\n",
    "**`metro_area` is not used**"
   ]
  },
  {
   "cell_type": "code",
   "execution_count": 11,
   "metadata": {},
   "outputs": [
    {
     "data": {
      "text/plain": [
       "array([nan])"
      ]
     },
     "execution_count": 11,
     "metadata": {},
     "output_type": "execute_result"
    }
   ],
   "source": [
    "europeDf[\"metro_area\"].unique()"
   ]
  },
  {
   "cell_type": "markdown",
   "metadata": {},
   "source": [
    "---\n",
    "\n",
    "**`iso_3166_2_code` is used and relates to regions.**"
   ]
  },
  {
   "cell_type": "code",
   "execution_count": 12,
   "metadata": {},
   "outputs": [
    {
     "data": {
      "text/plain": [
       "array([nan, 'AT-1', 'AT-2', ..., 'SK-TC', 'SK-TA', 'SK-ZI'], dtype=object)"
      ]
     },
     "execution_count": 12,
     "metadata": {},
     "output_type": "execute_result"
    }
   ],
   "source": [
    "europeDf[\"iso_3166_2_code\"].unique()"
   ]
  },
  {
   "cell_type": "markdown",
   "metadata": {},
   "source": [
    "---\n",
    "\n",
    "**`census_fips_code` is not used.**"
   ]
  },
  {
   "cell_type": "code",
   "execution_count": 13,
   "metadata": {},
   "outputs": [
    {
     "data": {
      "text/plain": [
       "array([nan])"
      ]
     },
     "execution_count": 13,
     "metadata": {},
     "output_type": "execute_result"
    }
   ],
   "source": [
    "europeDf[\"census_fips_code\"].unique()"
   ]
  },
  {
   "cell_type": "markdown",
   "metadata": {},
   "source": [
    "---\n",
    "\n",
    "## Create a new data frame containing just the rows with `sub_region_2`"
   ]
  },
  {
   "cell_type": "code",
   "execution_count": 4,
   "metadata": {},
   "outputs": [
    {
     "data": {
      "text/plain": [
       "3304"
      ]
     },
     "execution_count": 4,
     "metadata": {},
     "output_type": "execute_result"
    }
   ],
   "source": [
    "len(europeDf[\"place_id\"].unique())"
   ]
  },
  {
   "cell_type": "code",
   "execution_count": 5,
   "metadata": {},
   "outputs": [],
   "source": [
    "europeSubRegion2Df = europeDf[europeDf[\"sub_region_2\"].notnull()]"
   ]
  },
  {
   "cell_type": "code",
   "execution_count": 6,
   "metadata": {},
   "outputs": [
    {
     "data": {
      "text/plain": [
       "2647"
      ]
     },
     "execution_count": 6,
     "metadata": {},
     "output_type": "execute_result"
    }
   ],
   "source": [
    "len(europeSubRegion2Df[\"place_id\"].unique())"
   ]
  },
  {
   "cell_type": "markdown",
   "metadata": {},
   "source": [
    "We now have 2,674 rows instead of 3,304. Not a great reduction..."
   ]
  },
  {
   "cell_type": "markdown",
   "metadata": {},
   "source": [
    "---\n",
    "\n",
    "## Get the lat long coordinates for each unique `place_id`"
   ]
  },
  {
   "cell_type": "code",
   "execution_count": 18,
   "metadata": {},
   "outputs": [],
   "source": [
    "uniquePlaceIdsDf = europeSubRegion2Df[[\"place_id\"]].drop_duplicates()"
   ]
  },
  {
   "cell_type": "markdown",
   "metadata": {},
   "source": [
    "Access the google maps api to get coordinates for each `place_id`"
   ]
  },
  {
   "cell_type": "code",
   "execution_count": 19,
   "metadata": {},
   "outputs": [],
   "source": [
    "with open('./secrets/googleapikey.txt', 'r') as f:\n",
    "    key = f.read()"
   ]
  },
  {
   "cell_type": "code",
   "execution_count": 20,
   "metadata": {},
   "outputs": [],
   "source": [
    "def get_lat_long(place_id):\n",
    "    try:\n",
    "        API_KEY = key.rstrip(\"\\n\")\n",
    "        url = \"https://maps.googleapis.com/maps/api/place/details/json?place_id=\" + str(place_id) + \"&key=\" + str(API_KEY) + \"&fields=geometry\"\n",
    "        \n",
    "        response = (requests.get(url).text)\n",
    "        response_json = json.loads(response)\n",
    "        \n",
    "        if \"result\" in response_json:\n",
    "            result = response_json[\"result\"]\n",
    "            if \"geometry\" in result:\n",
    "                geometry = result[\"geometry\"]\n",
    "                if \"location\" in geometry:\n",
    "                    location = geometry[\"location\"]\n",
    "                    return location[\"lat\"], location[\"lng\"]\n",
    "                else:\n",
    "                    return None, None\n",
    "            else:\n",
    "                return None, None\n",
    "        else:\n",
    "            return None, None\n",
    "    \n",
    "    except Exception as e:\n",
    "        raise e"
   ]
  },
  {
   "cell_type": "code",
   "execution_count": 22,
   "metadata": {},
   "outputs": [],
   "source": [
    "uniquePlaceIdsDf.loc[:, \"lat\"], uniquePlaceIdsDf.loc[:, \"lng\"] = zip(*uniquePlaceIdsDf['place_id'].map(get_lat_long))"
   ]
  },
  {
   "cell_type": "code",
   "execution_count": 23,
   "metadata": {},
   "outputs": [
    {
     "data": {
      "text/html": [
       "<div>\n",
       "<style scoped>\n",
       "    .dataframe tbody tr th:only-of-type {\n",
       "        vertical-align: middle;\n",
       "    }\n",
       "\n",
       "    .dataframe tbody tr th {\n",
       "        vertical-align: top;\n",
       "    }\n",
       "\n",
       "    .dataframe thead th {\n",
       "        text-align: right;\n",
       "    }\n",
       "</style>\n",
       "<table border=\"1\" class=\"dataframe\">\n",
       "  <thead>\n",
       "    <tr style=\"text-align: right;\">\n",
       "      <th></th>\n",
       "      <th>place_id</th>\n",
       "      <th>lat</th>\n",
       "      <th>lng</th>\n",
       "    </tr>\n",
       "  </thead>\n",
       "  <tbody>\n",
       "    <tr>\n",
       "      <td>924</td>\n",
       "      <td>ChIJrziXHO43bEcR306wHEnyAlE</td>\n",
       "      <td>47.8464</td>\n",
       "      <td>16.528</td>\n",
       "    </tr>\n",
       "    <tr>\n",
       "      <td>1298</td>\n",
       "      <td>ChIJPaH4E0lPbEcR0jlSWowdN2I</td>\n",
       "      <td>47.8808</td>\n",
       "      <td>16.6721</td>\n",
       "    </tr>\n",
       "    <tr>\n",
       "      <td>1737</td>\n",
       "      <td>ChIJCUxcuQnpbkcRG0c2Jl5j0a0</td>\n",
       "      <td>47.0593</td>\n",
       "      <td>16.3245</td>\n",
       "    </tr>\n",
       "    <tr>\n",
       "      <td>2153</td>\n",
       "      <td>ChIJuRM1csjjbkcRdLPeHyNbg6o</td>\n",
       "      <td>46.9371</td>\n",
       "      <td>16.1296</td>\n",
       "    </tr>\n",
       "    <tr>\n",
       "      <td>2490</td>\n",
       "      <td>ChIJ3_3OS7wxbEcRGTfCAPgqt5A</td>\n",
       "      <td>47.7362</td>\n",
       "      <td>16.3966</td>\n",
       "    </tr>\n",
       "  </tbody>\n",
       "</table>\n",
       "</div>"
      ],
      "text/plain": [
       "                         place_id      lat      lng\n",
       "924   ChIJrziXHO43bEcR306wHEnyAlE  47.8464   16.528\n",
       "1298  ChIJPaH4E0lPbEcR0jlSWowdN2I  47.8808  16.6721\n",
       "1737  ChIJCUxcuQnpbkcRG0c2Jl5j0a0  47.0593  16.3245\n",
       "2153  ChIJuRM1csjjbkcRdLPeHyNbg6o  46.9371  16.1296\n",
       "2490  ChIJ3_3OS7wxbEcRGTfCAPgqt5A  47.7362  16.3966"
      ]
     },
     "execution_count": 23,
     "metadata": {},
     "output_type": "execute_result"
    }
   ],
   "source": [
    "uniquePlaceIdsDf.head()"
   ]
  },
  {
   "cell_type": "markdown",
   "metadata": {},
   "source": [
    "I'll save these coordinates as a CSV file for later use."
   ]
  },
  {
   "cell_type": "code",
   "execution_count": 24,
   "metadata": {},
   "outputs": [],
   "source": [
    "uniquePlaceIdsDf.to_csv(\"./output-data/europe-sub-region-2-lat-lng.csv\", index=False)"
   ]
  },
  {
   "cell_type": "code",
   "execution_count": 25,
   "metadata": {},
   "outputs": [
    {
     "data": {
      "text/plain": [
       "2647"
      ]
     },
     "execution_count": 25,
     "metadata": {},
     "output_type": "execute_result"
    }
   ],
   "source": [
    "len(uniquePlaceIdsDf)"
   ]
  },
  {
   "cell_type": "markdown",
   "metadata": {},
   "source": [
    "---\n",
    "\n",
    "## Merge the coordinates with the original `sub_region_2` data frame"
   ]
  },
  {
   "cell_type": "code",
   "execution_count": 7,
   "metadata": {},
   "outputs": [],
   "source": [
    "uniquePlaceIdsDf = pd.read_csv(\"./output-data/europe-sub-region-2-lat-lng.csv\")"
   ]
  },
  {
   "cell_type": "code",
   "execution_count": 8,
   "metadata": {},
   "outputs": [],
   "source": [
    "europeSubRegion2MergeDf = pd.merge(europeSubRegion2Df, uniquePlaceIdsDf, on='place_id', how='outer')"
   ]
  },
  {
   "cell_type": "code",
   "execution_count": 9,
   "metadata": {},
   "outputs": [
    {
     "data": {
      "text/html": [
       "<div>\n",
       "<style scoped>\n",
       "    .dataframe tbody tr th:only-of-type {\n",
       "        vertical-align: middle;\n",
       "    }\n",
       "\n",
       "    .dataframe tbody tr th {\n",
       "        vertical-align: top;\n",
       "    }\n",
       "\n",
       "    .dataframe thead th {\n",
       "        text-align: right;\n",
       "    }\n",
       "</style>\n",
       "<table border=\"1\" class=\"dataframe\">\n",
       "  <thead>\n",
       "    <tr style=\"text-align: right;\">\n",
       "      <th></th>\n",
       "      <th>country_region_code</th>\n",
       "      <th>country_region</th>\n",
       "      <th>sub_region_1</th>\n",
       "      <th>sub_region_2</th>\n",
       "      <th>metro_area</th>\n",
       "      <th>iso_3166_2_code</th>\n",
       "      <th>census_fips_code</th>\n",
       "      <th>place_id</th>\n",
       "      <th>date</th>\n",
       "      <th>retail_and_recreation_percent_change_from_baseline</th>\n",
       "      <th>grocery_and_pharmacy_percent_change_from_baseline</th>\n",
       "      <th>parks_percent_change_from_baseline</th>\n",
       "      <th>transit_stations_percent_change_from_baseline</th>\n",
       "      <th>workplaces_percent_change_from_baseline</th>\n",
       "      <th>residential_percent_change_from_baseline</th>\n",
       "      <th>lat</th>\n",
       "      <th>lng</th>\n",
       "    </tr>\n",
       "  </thead>\n",
       "  <tbody>\n",
       "    <tr>\n",
       "      <td>0</td>\n",
       "      <td>AT</td>\n",
       "      <td>Austria</td>\n",
       "      <td>Burgenland</td>\n",
       "      <td>Eisenstadt</td>\n",
       "      <td>NaN</td>\n",
       "      <td>NaN</td>\n",
       "      <td>NaN</td>\n",
       "      <td>ChIJrziXHO43bEcR306wHEnyAlE</td>\n",
       "      <td>2020-02-15</td>\n",
       "      <td>-4.0</td>\n",
       "      <td>-9.0</td>\n",
       "      <td>NaN</td>\n",
       "      <td>NaN</td>\n",
       "      <td>NaN</td>\n",
       "      <td>NaN</td>\n",
       "      <td>47.84637</td>\n",
       "      <td>16.52796</td>\n",
       "    </tr>\n",
       "    <tr>\n",
       "      <td>1</td>\n",
       "      <td>AT</td>\n",
       "      <td>Austria</td>\n",
       "      <td>Burgenland</td>\n",
       "      <td>Eisenstadt</td>\n",
       "      <td>NaN</td>\n",
       "      <td>NaN</td>\n",
       "      <td>NaN</td>\n",
       "      <td>ChIJrziXHO43bEcR306wHEnyAlE</td>\n",
       "      <td>2020-02-17</td>\n",
       "      <td>3.0</td>\n",
       "      <td>4.0</td>\n",
       "      <td>NaN</td>\n",
       "      <td>5.0</td>\n",
       "      <td>7.0</td>\n",
       "      <td>NaN</td>\n",
       "      <td>47.84637</td>\n",
       "      <td>16.52796</td>\n",
       "    </tr>\n",
       "    <tr>\n",
       "      <td>2</td>\n",
       "      <td>AT</td>\n",
       "      <td>Austria</td>\n",
       "      <td>Burgenland</td>\n",
       "      <td>Eisenstadt</td>\n",
       "      <td>NaN</td>\n",
       "      <td>NaN</td>\n",
       "      <td>NaN</td>\n",
       "      <td>ChIJrziXHO43bEcR306wHEnyAlE</td>\n",
       "      <td>2020-02-18</td>\n",
       "      <td>0.0</td>\n",
       "      <td>2.0</td>\n",
       "      <td>NaN</td>\n",
       "      <td>-4.0</td>\n",
       "      <td>7.0</td>\n",
       "      <td>NaN</td>\n",
       "      <td>47.84637</td>\n",
       "      <td>16.52796</td>\n",
       "    </tr>\n",
       "    <tr>\n",
       "      <td>3</td>\n",
       "      <td>AT</td>\n",
       "      <td>Austria</td>\n",
       "      <td>Burgenland</td>\n",
       "      <td>Eisenstadt</td>\n",
       "      <td>NaN</td>\n",
       "      <td>NaN</td>\n",
       "      <td>NaN</td>\n",
       "      <td>ChIJrziXHO43bEcR306wHEnyAlE</td>\n",
       "      <td>2020-02-19</td>\n",
       "      <td>-7.0</td>\n",
       "      <td>7.0</td>\n",
       "      <td>NaN</td>\n",
       "      <td>-3.0</td>\n",
       "      <td>5.0</td>\n",
       "      <td>NaN</td>\n",
       "      <td>47.84637</td>\n",
       "      <td>16.52796</td>\n",
       "    </tr>\n",
       "    <tr>\n",
       "      <td>4</td>\n",
       "      <td>AT</td>\n",
       "      <td>Austria</td>\n",
       "      <td>Burgenland</td>\n",
       "      <td>Eisenstadt</td>\n",
       "      <td>NaN</td>\n",
       "      <td>NaN</td>\n",
       "      <td>NaN</td>\n",
       "      <td>ChIJrziXHO43bEcR306wHEnyAlE</td>\n",
       "      <td>2020-02-20</td>\n",
       "      <td>0.0</td>\n",
       "      <td>3.0</td>\n",
       "      <td>NaN</td>\n",
       "      <td>4.0</td>\n",
       "      <td>5.0</td>\n",
       "      <td>NaN</td>\n",
       "      <td>47.84637</td>\n",
       "      <td>16.52796</td>\n",
       "    </tr>\n",
       "  </tbody>\n",
       "</table>\n",
       "</div>"
      ],
      "text/plain": [
       "  country_region_code country_region sub_region_1 sub_region_2  metro_area  \\\n",
       "0                  AT        Austria   Burgenland   Eisenstadt         NaN   \n",
       "1                  AT        Austria   Burgenland   Eisenstadt         NaN   \n",
       "2                  AT        Austria   Burgenland   Eisenstadt         NaN   \n",
       "3                  AT        Austria   Burgenland   Eisenstadt         NaN   \n",
       "4                  AT        Austria   Burgenland   Eisenstadt         NaN   \n",
       "\n",
       "  iso_3166_2_code  census_fips_code                     place_id        date  \\\n",
       "0             NaN               NaN  ChIJrziXHO43bEcR306wHEnyAlE  2020-02-15   \n",
       "1             NaN               NaN  ChIJrziXHO43bEcR306wHEnyAlE  2020-02-17   \n",
       "2             NaN               NaN  ChIJrziXHO43bEcR306wHEnyAlE  2020-02-18   \n",
       "3             NaN               NaN  ChIJrziXHO43bEcR306wHEnyAlE  2020-02-19   \n",
       "4             NaN               NaN  ChIJrziXHO43bEcR306wHEnyAlE  2020-02-20   \n",
       "\n",
       "   retail_and_recreation_percent_change_from_baseline  \\\n",
       "0                                               -4.0    \n",
       "1                                                3.0    \n",
       "2                                                0.0    \n",
       "3                                               -7.0    \n",
       "4                                                0.0    \n",
       "\n",
       "   grocery_and_pharmacy_percent_change_from_baseline  \\\n",
       "0                                               -9.0   \n",
       "1                                                4.0   \n",
       "2                                                2.0   \n",
       "3                                                7.0   \n",
       "4                                                3.0   \n",
       "\n",
       "   parks_percent_change_from_baseline  \\\n",
       "0                                 NaN   \n",
       "1                                 NaN   \n",
       "2                                 NaN   \n",
       "3                                 NaN   \n",
       "4                                 NaN   \n",
       "\n",
       "   transit_stations_percent_change_from_baseline  \\\n",
       "0                                            NaN   \n",
       "1                                            5.0   \n",
       "2                                           -4.0   \n",
       "3                                           -3.0   \n",
       "4                                            4.0   \n",
       "\n",
       "   workplaces_percent_change_from_baseline  \\\n",
       "0                                      NaN   \n",
       "1                                      7.0   \n",
       "2                                      7.0   \n",
       "3                                      5.0   \n",
       "4                                      5.0   \n",
       "\n",
       "   residential_percent_change_from_baseline       lat       lng  \n",
       "0                                       NaN  47.84637  16.52796  \n",
       "1                                       NaN  47.84637  16.52796  \n",
       "2                                       NaN  47.84637  16.52796  \n",
       "3                                       NaN  47.84637  16.52796  \n",
       "4                                       NaN  47.84637  16.52796  "
      ]
     },
     "execution_count": 9,
     "metadata": {},
     "output_type": "execute_result"
    }
   ],
   "source": [
    "europeSubRegion2MergeDf.head()"
   ]
  },
  {
   "cell_type": "markdown",
   "metadata": {},
   "source": [
    "---\n",
    "\n",
    "## Calculate 7 day rolling averages for each location"
   ]
  },
  {
   "cell_type": "code",
   "execution_count": 10,
   "metadata": {},
   "outputs": [],
   "source": [
    "def add_rolling_average(df):\n",
    "    df.loc[:, \"retail-average\"] = df[\"retail_and_recreation_percent_change_from_baseline\"].rolling(window=7, center=True).mean()\n",
    "    df.loc[:, \"grocery-average\"] = df[\"grocery_and_pharmacy_percent_change_from_baseline\"].rolling(window=7, center=True).mean()\n",
    "    df.loc[:, \"parks-average\"] = df[\"parks_percent_change_from_baseline\"].rolling(window=7, center=True).mean()\n",
    "    df.loc[:, \"transit-average\"] = df[\"transit_stations_percent_change_from_baseline\"].rolling(window=7, center=True).mean()\n",
    "    df.loc[:, \"workplace-average\"] = df[\"workplaces_percent_change_from_baseline\"].rolling(window=7, center=True).mean()\n",
    "    df.loc[:, \"residential-average\"] = df[\"residential_percent_change_from_baseline\"].rolling(window=7, center=True).mean()\n",
    "    \n",
    "    return df"
   ]
  },
  {
   "cell_type": "code",
   "execution_count": 11,
   "metadata": {},
   "outputs": [],
   "source": [
    "europeSubRegion2AverageDf = europeSubRegion2MergeDf.groupby(\"place_id\").apply(add_rolling_average)"
   ]
  },
  {
   "cell_type": "code",
   "execution_count": 12,
   "metadata": {},
   "outputs": [
    {
     "data": {
      "text/html": [
       "<div>\n",
       "<style scoped>\n",
       "    .dataframe tbody tr th:only-of-type {\n",
       "        vertical-align: middle;\n",
       "    }\n",
       "\n",
       "    .dataframe tbody tr th {\n",
       "        vertical-align: top;\n",
       "    }\n",
       "\n",
       "    .dataframe thead th {\n",
       "        text-align: right;\n",
       "    }\n",
       "</style>\n",
       "<table border=\"1\" class=\"dataframe\">\n",
       "  <thead>\n",
       "    <tr style=\"text-align: right;\">\n",
       "      <th></th>\n",
       "      <th>country_region_code</th>\n",
       "      <th>country_region</th>\n",
       "      <th>sub_region_1</th>\n",
       "      <th>sub_region_2</th>\n",
       "      <th>metro_area</th>\n",
       "      <th>iso_3166_2_code</th>\n",
       "      <th>census_fips_code</th>\n",
       "      <th>place_id</th>\n",
       "      <th>date</th>\n",
       "      <th>retail_and_recreation_percent_change_from_baseline</th>\n",
       "      <th>...</th>\n",
       "      <th>workplaces_percent_change_from_baseline</th>\n",
       "      <th>residential_percent_change_from_baseline</th>\n",
       "      <th>lat</th>\n",
       "      <th>lng</th>\n",
       "      <th>retail-average</th>\n",
       "      <th>grocery-average</th>\n",
       "      <th>parks-average</th>\n",
       "      <th>transit-average</th>\n",
       "      <th>workplace-average</th>\n",
       "      <th>residential-average</th>\n",
       "    </tr>\n",
       "  </thead>\n",
       "  <tbody>\n",
       "    <tr>\n",
       "      <td>1000000</td>\n",
       "      <td>SE</td>\n",
       "      <td>Sweden</td>\n",
       "      <td>Stockholm County</td>\n",
       "      <td>Salem Municipality</td>\n",
       "      <td>NaN</td>\n",
       "      <td>NaN</td>\n",
       "      <td>NaN</td>\n",
       "      <td>ChIJ8eJRdycNX0YRfvG06GYpON0</td>\n",
       "      <td>2020-04-27</td>\n",
       "      <td>NaN</td>\n",
       "      <td>...</td>\n",
       "      <td>-35.0</td>\n",
       "      <td>NaN</td>\n",
       "      <td>59.195579</td>\n",
       "      <td>17.757501</td>\n",
       "      <td>NaN</td>\n",
       "      <td>NaN</td>\n",
       "      <td>NaN</td>\n",
       "      <td>-36.714286</td>\n",
       "      <td>NaN</td>\n",
       "      <td>NaN</td>\n",
       "    </tr>\n",
       "    <tr>\n",
       "      <td>1000001</td>\n",
       "      <td>SE</td>\n",
       "      <td>Sweden</td>\n",
       "      <td>Stockholm County</td>\n",
       "      <td>Salem Municipality</td>\n",
       "      <td>NaN</td>\n",
       "      <td>NaN</td>\n",
       "      <td>NaN</td>\n",
       "      <td>ChIJ8eJRdycNX0YRfvG06GYpON0</td>\n",
       "      <td>2020-04-28</td>\n",
       "      <td>NaN</td>\n",
       "      <td>...</td>\n",
       "      <td>-32.0</td>\n",
       "      <td>NaN</td>\n",
       "      <td>59.195579</td>\n",
       "      <td>17.757501</td>\n",
       "      <td>NaN</td>\n",
       "      <td>NaN</td>\n",
       "      <td>NaN</td>\n",
       "      <td>-41.714286</td>\n",
       "      <td>NaN</td>\n",
       "      <td>NaN</td>\n",
       "    </tr>\n",
       "    <tr>\n",
       "      <td>1000002</td>\n",
       "      <td>SE</td>\n",
       "      <td>Sweden</td>\n",
       "      <td>Stockholm County</td>\n",
       "      <td>Salem Municipality</td>\n",
       "      <td>NaN</td>\n",
       "      <td>NaN</td>\n",
       "      <td>NaN</td>\n",
       "      <td>ChIJ8eJRdycNX0YRfvG06GYpON0</td>\n",
       "      <td>2020-04-29</td>\n",
       "      <td>NaN</td>\n",
       "      <td>...</td>\n",
       "      <td>-29.0</td>\n",
       "      <td>NaN</td>\n",
       "      <td>59.195579</td>\n",
       "      <td>17.757501</td>\n",
       "      <td>NaN</td>\n",
       "      <td>NaN</td>\n",
       "      <td>NaN</td>\n",
       "      <td>-40.428571</td>\n",
       "      <td>NaN</td>\n",
       "      <td>NaN</td>\n",
       "    </tr>\n",
       "    <tr>\n",
       "      <td>1000003</td>\n",
       "      <td>SE</td>\n",
       "      <td>Sweden</td>\n",
       "      <td>Stockholm County</td>\n",
       "      <td>Salem Municipality</td>\n",
       "      <td>NaN</td>\n",
       "      <td>NaN</td>\n",
       "      <td>NaN</td>\n",
       "      <td>ChIJ8eJRdycNX0YRfvG06GYpON0</td>\n",
       "      <td>2020-04-30</td>\n",
       "      <td>NaN</td>\n",
       "      <td>...</td>\n",
       "      <td>-38.0</td>\n",
       "      <td>NaN</td>\n",
       "      <td>59.195579</td>\n",
       "      <td>17.757501</td>\n",
       "      <td>NaN</td>\n",
       "      <td>NaN</td>\n",
       "      <td>NaN</td>\n",
       "      <td>-42.000000</td>\n",
       "      <td>NaN</td>\n",
       "      <td>NaN</td>\n",
       "    </tr>\n",
       "    <tr>\n",
       "      <td>1000004</td>\n",
       "      <td>SE</td>\n",
       "      <td>Sweden</td>\n",
       "      <td>Stockholm County</td>\n",
       "      <td>Salem Municipality</td>\n",
       "      <td>NaN</td>\n",
       "      <td>NaN</td>\n",
       "      <td>NaN</td>\n",
       "      <td>ChIJ8eJRdycNX0YRfvG06GYpON0</td>\n",
       "      <td>2020-05-01</td>\n",
       "      <td>NaN</td>\n",
       "      <td>...</td>\n",
       "      <td>-84.0</td>\n",
       "      <td>NaN</td>\n",
       "      <td>59.195579</td>\n",
       "      <td>17.757501</td>\n",
       "      <td>NaN</td>\n",
       "      <td>NaN</td>\n",
       "      <td>NaN</td>\n",
       "      <td>-41.285714</td>\n",
       "      <td>NaN</td>\n",
       "      <td>NaN</td>\n",
       "    </tr>\n",
       "  </tbody>\n",
       "</table>\n",
       "<p>5 rows × 23 columns</p>\n",
       "</div>"
      ],
      "text/plain": [
       "        country_region_code country_region      sub_region_1  \\\n",
       "1000000                  SE         Sweden  Stockholm County   \n",
       "1000001                  SE         Sweden  Stockholm County   \n",
       "1000002                  SE         Sweden  Stockholm County   \n",
       "1000003                  SE         Sweden  Stockholm County   \n",
       "1000004                  SE         Sweden  Stockholm County   \n",
       "\n",
       "               sub_region_2  metro_area iso_3166_2_code  census_fips_code  \\\n",
       "1000000  Salem Municipality         NaN             NaN               NaN   \n",
       "1000001  Salem Municipality         NaN             NaN               NaN   \n",
       "1000002  Salem Municipality         NaN             NaN               NaN   \n",
       "1000003  Salem Municipality         NaN             NaN               NaN   \n",
       "1000004  Salem Municipality         NaN             NaN               NaN   \n",
       "\n",
       "                            place_id        date  \\\n",
       "1000000  ChIJ8eJRdycNX0YRfvG06GYpON0  2020-04-27   \n",
       "1000001  ChIJ8eJRdycNX0YRfvG06GYpON0  2020-04-28   \n",
       "1000002  ChIJ8eJRdycNX0YRfvG06GYpON0  2020-04-29   \n",
       "1000003  ChIJ8eJRdycNX0YRfvG06GYpON0  2020-04-30   \n",
       "1000004  ChIJ8eJRdycNX0YRfvG06GYpON0  2020-05-01   \n",
       "\n",
       "         retail_and_recreation_percent_change_from_baseline  ...  \\\n",
       "1000000                                                NaN   ...   \n",
       "1000001                                                NaN   ...   \n",
       "1000002                                                NaN   ...   \n",
       "1000003                                                NaN   ...   \n",
       "1000004                                                NaN   ...   \n",
       "\n",
       "         workplaces_percent_change_from_baseline  \\\n",
       "1000000                                    -35.0   \n",
       "1000001                                    -32.0   \n",
       "1000002                                    -29.0   \n",
       "1000003                                    -38.0   \n",
       "1000004                                    -84.0   \n",
       "\n",
       "         residential_percent_change_from_baseline        lat        lng  \\\n",
       "1000000                                       NaN  59.195579  17.757501   \n",
       "1000001                                       NaN  59.195579  17.757501   \n",
       "1000002                                       NaN  59.195579  17.757501   \n",
       "1000003                                       NaN  59.195579  17.757501   \n",
       "1000004                                       NaN  59.195579  17.757501   \n",
       "\n",
       "         retail-average  grocery-average  parks-average  transit-average  \\\n",
       "1000000             NaN              NaN            NaN       -36.714286   \n",
       "1000001             NaN              NaN            NaN       -41.714286   \n",
       "1000002             NaN              NaN            NaN       -40.428571   \n",
       "1000003             NaN              NaN            NaN       -42.000000   \n",
       "1000004             NaN              NaN            NaN       -41.285714   \n",
       "\n",
       "         workplace-average  residential-average  \n",
       "1000000                NaN                  NaN  \n",
       "1000001                NaN                  NaN  \n",
       "1000002                NaN                  NaN  \n",
       "1000003                NaN                  NaN  \n",
       "1000004                NaN                  NaN  \n",
       "\n",
       "[5 rows x 23 columns]"
      ]
     },
     "execution_count": 12,
     "metadata": {},
     "output_type": "execute_result"
    }
   ],
   "source": [
    "europeSubRegion2AverageDf[1000000:1000005]"
   ]
  },
  {
   "cell_type": "markdown",
   "metadata": {},
   "source": [
    "---\n",
    "\n",
    "## Round the average figures to 1 decimal place for a smaller final file size"
   ]
  },
  {
   "cell_type": "code",
   "execution_count": 13,
   "metadata": {},
   "outputs": [],
   "source": [
    "europeSubRegion2RoundedDf = europeSubRegion2AverageDf.round({\n",
    "    'retail-average': 1,\n",
    "    'grocery-average': 1,\n",
    "    'parks-average': 1,\n",
    "    'transit-average': 1,\n",
    "    'workplace-average': 1,\n",
    "    'residential-average': 1\n",
    "})"
   ]
  },
  {
   "cell_type": "markdown",
   "metadata": {},
   "source": [
    "---\n",
    "\n",
    "## Remove any NaN `place_id`s"
   ]
  },
  {
   "cell_type": "code",
   "execution_count": 14,
   "metadata": {},
   "outputs": [],
   "source": [
    "europeSubRegion2NotNaDf = europeSubRegion2RoundedDf[europeSubRegion2RoundedDf[\"place_id\"].notna(\n",
    ")]"
   ]
  },
  {
   "cell_type": "markdown",
   "metadata": {},
   "source": [
    "---\n",
    "\n",
    "## Convert the data into a python dictionary so it can be exported as json"
   ]
  },
  {
   "cell_type": "code",
   "execution_count": 15,
   "metadata": {},
   "outputs": [],
   "source": [
    "def create_list_for_json(df):\n",
    "    outputList = []\n",
    "    listOfPlaceIds = df[\"place_id\"].drop_duplicates().to_list()\n",
    "    groupByPlaceId = df.groupby(\"place_id\")\n",
    "    \n",
    "    for place_id in listOfPlaceIds:\n",
    "        thisDf = groupByPlaceId.get_group(place_id)\n",
    "        parksList = thisDf[\"parks-average\"].to_list()\n",
    "        \n",
    "        # Some of the parks columns contain all NaNs, we'll skip these\n",
    "        if np.isnan(parksList).all():\n",
    "            continue\n",
    "        \n",
    "        myDict = {}\n",
    "        myDict['lng'] = thisDf.iloc[0][\"lng\"]\n",
    "        myDict[\"lat\"] =  thisDf.iloc[0][\"lat\"]\n",
    "\n",
    "        # parks_percent_change_from_baseline\n",
    "        myDict[\"parks\"] = thisDf.set_index(\"date\")[\"parks-average\"].to_dict()\n",
    "\n",
    "        outputList.append(myDict)\n",
    "        \n",
    "    return outputList"
   ]
  },
  {
   "cell_type": "code",
   "execution_count": 16,
   "metadata": {},
   "outputs": [],
   "source": [
    "europeSubRegion2List = create_list_for_json(europeSubRegion2NotNaDf)"
   ]
  },
  {
   "cell_type": "code",
   "execution_count": 17,
   "metadata": {},
   "outputs": [
    {
     "data": {
      "text/plain": [
       "991"
      ]
     },
     "execution_count": 17,
     "metadata": {},
     "output_type": "execute_result"
    }
   ],
   "source": [
    "len(europeSubRegion2List)"
   ]
  },
  {
   "cell_type": "code",
   "execution_count": 19,
   "metadata": {},
   "outputs": [],
   "source": [
    "with open(\"./public/data/europe-parks.json\", \"w\") as outfile: \n",
    "    json.dump(europeSubRegion2List, outfile, ignore_nan=True)"
   ]
  },
  {
   "cell_type": "markdown",
   "metadata": {},
   "source": [
    "---\n",
    "\n",
    "## Missing `sub_region_2` for many countries in Europe\n",
    "\n",
    "Many countries, such as Ireland and Germany are missing `sub_region_2` rows."
   ]
  },
  {
   "cell_type": "code",
   "execution_count": 11,
   "metadata": {},
   "outputs": [
    {
     "data": {
      "text/plain": [
       "array([nan, 'County Carlow', 'County Cavan', 'County Clare',\n",
       "       'County Cork', 'County Donegal', 'County Dublin', 'County Galway',\n",
       "       'County Kerry', 'County Kildare', 'County Kilkenny',\n",
       "       'County Laois', 'County Leitrim', 'County Limerick',\n",
       "       'County Longford', 'County Louth', 'County Mayo', 'County Meath',\n",
       "       'County Monaghan', 'County Offaly', 'County Roscommon',\n",
       "       'County Sligo', 'County Tipperary', 'County Waterford',\n",
       "       'County Westmeath', 'County Wexford', 'County Wicklow'],\n",
       "      dtype=object)"
      ]
     },
     "execution_count": 11,
     "metadata": {},
     "output_type": "execute_result"
    }
   ],
   "source": [
    "europeDf[europeDf[\"country_region\"] == \"Ireland\"][\"sub_region_1\"].unique()"
   ]
  },
  {
   "cell_type": "code",
   "execution_count": 12,
   "metadata": {},
   "outputs": [
    {
     "data": {
      "text/plain": [
       "array([nan], dtype=object)"
      ]
     },
     "execution_count": 12,
     "metadata": {},
     "output_type": "execute_result"
    }
   ],
   "source": [
    "europeDf[europeDf[\"country_region\"] == \"Ireland\"][\"sub_region_2\"].unique()"
   ]
  },
  {
   "cell_type": "code",
   "execution_count": null,
   "metadata": {},
   "outputs": [],
   "source": []
  }
 ],
 "metadata": {
  "kernelspec": {
   "display_name": "Python 3",
   "language": "python",
   "name": "python3"
  },
  "language_info": {
   "codemirror_mode": {
    "name": "ipython",
    "version": 3
   },
   "file_extension": ".py",
   "mimetype": "text/x-python",
   "name": "python",
   "nbconvert_exporter": "python",
   "pygments_lexer": "ipython3",
   "version": "3.7.4"
  }
 },
 "nbformat": 4,
 "nbformat_minor": 2
}
