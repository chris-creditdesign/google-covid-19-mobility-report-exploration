{
 "cells": [
  {
   "cell_type": "markdown",
   "metadata": {},
   "source": [
    "# google-covid-19-mobility-data-process-usa\n",
    "\n",
    "In this notebook I will refine the process from `google-covid-19-mobility-data-process-v1` in order to get the highest resolution data possible for a map of the USA."
   ]
  },
  {
   "cell_type": "code",
   "execution_count": 92,
   "metadata": {},
   "outputs": [],
   "source": [
    "import pandas as pd\n",
    "import requests\n",
    "import simplejson as json\n",
    "import numpy as np"
   ]
  },
  {
   "cell_type": "markdown",
   "metadata": {},
   "source": [
    "---\n",
    "\n",
    "## Load a reduced CSV containing just the United States entries"
   ]
  },
  {
   "cell_type": "code",
   "execution_count": 7,
   "metadata": {},
   "outputs": [],
   "source": [
    "usaDf = pd.read_csv(\"./output-data/usa.csv\", low_memory=False)"
   ]
  },
  {
   "cell_type": "code",
   "execution_count": 8,
   "metadata": {},
   "outputs": [
    {
     "data": {
      "text/html": [
       "<div>\n",
       "<style scoped>\n",
       "    .dataframe tbody tr th:only-of-type {\n",
       "        vertical-align: middle;\n",
       "    }\n",
       "\n",
       "    .dataframe tbody tr th {\n",
       "        vertical-align: top;\n",
       "    }\n",
       "\n",
       "    .dataframe thead th {\n",
       "        text-align: right;\n",
       "    }\n",
       "</style>\n",
       "<table border=\"1\" class=\"dataframe\">\n",
       "  <thead>\n",
       "    <tr style=\"text-align: right;\">\n",
       "      <th></th>\n",
       "      <th>country_region_code</th>\n",
       "      <th>country_region</th>\n",
       "      <th>sub_region_1</th>\n",
       "      <th>sub_region_2</th>\n",
       "      <th>metro_area</th>\n",
       "      <th>iso_3166_2_code</th>\n",
       "      <th>census_fips_code</th>\n",
       "      <th>place_id</th>\n",
       "      <th>date</th>\n",
       "      <th>retail_and_recreation_percent_change_from_baseline</th>\n",
       "      <th>grocery_and_pharmacy_percent_change_from_baseline</th>\n",
       "      <th>parks_percent_change_from_baseline</th>\n",
       "      <th>transit_stations_percent_change_from_baseline</th>\n",
       "      <th>workplaces_percent_change_from_baseline</th>\n",
       "      <th>residential_percent_change_from_baseline</th>\n",
       "    </tr>\n",
       "  </thead>\n",
       "  <tbody>\n",
       "    <tr>\n",
       "      <td>0</td>\n",
       "      <td>US</td>\n",
       "      <td>United States</td>\n",
       "      <td>NaN</td>\n",
       "      <td>NaN</td>\n",
       "      <td>NaN</td>\n",
       "      <td>NaN</td>\n",
       "      <td>NaN</td>\n",
       "      <td>ChIJCzYy5IS16lQRQrfeQ5K5Oxw</td>\n",
       "      <td>2020-02-15</td>\n",
       "      <td>6.0</td>\n",
       "      <td>2.0</td>\n",
       "      <td>15.0</td>\n",
       "      <td>3.0</td>\n",
       "      <td>2.0</td>\n",
       "      <td>-1.0</td>\n",
       "    </tr>\n",
       "    <tr>\n",
       "      <td>1</td>\n",
       "      <td>US</td>\n",
       "      <td>United States</td>\n",
       "      <td>NaN</td>\n",
       "      <td>NaN</td>\n",
       "      <td>NaN</td>\n",
       "      <td>NaN</td>\n",
       "      <td>NaN</td>\n",
       "      <td>ChIJCzYy5IS16lQRQrfeQ5K5Oxw</td>\n",
       "      <td>2020-02-16</td>\n",
       "      <td>7.0</td>\n",
       "      <td>1.0</td>\n",
       "      <td>16.0</td>\n",
       "      <td>2.0</td>\n",
       "      <td>0.0</td>\n",
       "      <td>-1.0</td>\n",
       "    </tr>\n",
       "    <tr>\n",
       "      <td>2</td>\n",
       "      <td>US</td>\n",
       "      <td>United States</td>\n",
       "      <td>NaN</td>\n",
       "      <td>NaN</td>\n",
       "      <td>NaN</td>\n",
       "      <td>NaN</td>\n",
       "      <td>NaN</td>\n",
       "      <td>ChIJCzYy5IS16lQRQrfeQ5K5Oxw</td>\n",
       "      <td>2020-02-17</td>\n",
       "      <td>6.0</td>\n",
       "      <td>0.0</td>\n",
       "      <td>28.0</td>\n",
       "      <td>-9.0</td>\n",
       "      <td>-24.0</td>\n",
       "      <td>5.0</td>\n",
       "    </tr>\n",
       "    <tr>\n",
       "      <td>3</td>\n",
       "      <td>US</td>\n",
       "      <td>United States</td>\n",
       "      <td>NaN</td>\n",
       "      <td>NaN</td>\n",
       "      <td>NaN</td>\n",
       "      <td>NaN</td>\n",
       "      <td>NaN</td>\n",
       "      <td>ChIJCzYy5IS16lQRQrfeQ5K5Oxw</td>\n",
       "      <td>2020-02-18</td>\n",
       "      <td>0.0</td>\n",
       "      <td>-1.0</td>\n",
       "      <td>6.0</td>\n",
       "      <td>1.0</td>\n",
       "      <td>0.0</td>\n",
       "      <td>1.0</td>\n",
       "    </tr>\n",
       "    <tr>\n",
       "      <td>4</td>\n",
       "      <td>US</td>\n",
       "      <td>United States</td>\n",
       "      <td>NaN</td>\n",
       "      <td>NaN</td>\n",
       "      <td>NaN</td>\n",
       "      <td>NaN</td>\n",
       "      <td>NaN</td>\n",
       "      <td>ChIJCzYy5IS16lQRQrfeQ5K5Oxw</td>\n",
       "      <td>2020-02-19</td>\n",
       "      <td>2.0</td>\n",
       "      <td>0.0</td>\n",
       "      <td>8.0</td>\n",
       "      <td>1.0</td>\n",
       "      <td>1.0</td>\n",
       "      <td>0.0</td>\n",
       "    </tr>\n",
       "  </tbody>\n",
       "</table>\n",
       "</div>"
      ],
      "text/plain": [
       "  country_region_code country_region sub_region_1 sub_region_2  metro_area  \\\n",
       "0                  US  United States          NaN          NaN         NaN   \n",
       "1                  US  United States          NaN          NaN         NaN   \n",
       "2                  US  United States          NaN          NaN         NaN   \n",
       "3                  US  United States          NaN          NaN         NaN   \n",
       "4                  US  United States          NaN          NaN         NaN   \n",
       "\n",
       "  iso_3166_2_code  census_fips_code                     place_id        date  \\\n",
       "0             NaN               NaN  ChIJCzYy5IS16lQRQrfeQ5K5Oxw  2020-02-15   \n",
       "1             NaN               NaN  ChIJCzYy5IS16lQRQrfeQ5K5Oxw  2020-02-16   \n",
       "2             NaN               NaN  ChIJCzYy5IS16lQRQrfeQ5K5Oxw  2020-02-17   \n",
       "3             NaN               NaN  ChIJCzYy5IS16lQRQrfeQ5K5Oxw  2020-02-18   \n",
       "4             NaN               NaN  ChIJCzYy5IS16lQRQrfeQ5K5Oxw  2020-02-19   \n",
       "\n",
       "   retail_and_recreation_percent_change_from_baseline  \\\n",
       "0                                                6.0    \n",
       "1                                                7.0    \n",
       "2                                                6.0    \n",
       "3                                                0.0    \n",
       "4                                                2.0    \n",
       "\n",
       "   grocery_and_pharmacy_percent_change_from_baseline  \\\n",
       "0                                                2.0   \n",
       "1                                                1.0   \n",
       "2                                                0.0   \n",
       "3                                               -1.0   \n",
       "4                                                0.0   \n",
       "\n",
       "   parks_percent_change_from_baseline  \\\n",
       "0                                15.0   \n",
       "1                                16.0   \n",
       "2                                28.0   \n",
       "3                                 6.0   \n",
       "4                                 8.0   \n",
       "\n",
       "   transit_stations_percent_change_from_baseline  \\\n",
       "0                                            3.0   \n",
       "1                                            2.0   \n",
       "2                                           -9.0   \n",
       "3                                            1.0   \n",
       "4                                            1.0   \n",
       "\n",
       "   workplaces_percent_change_from_baseline  \\\n",
       "0                                      2.0   \n",
       "1                                      0.0   \n",
       "2                                    -24.0   \n",
       "3                                      0.0   \n",
       "4                                      1.0   \n",
       "\n",
       "   residential_percent_change_from_baseline  \n",
       "0                                      -1.0  \n",
       "1                                      -1.0  \n",
       "2                                       5.0  \n",
       "3                                       1.0  \n",
       "4                                       0.0  "
      ]
     },
     "execution_count": 8,
     "metadata": {},
     "output_type": "execute_result"
    }
   ],
   "source": [
    "usaDf.head()"
   ]
  },
  {
   "cell_type": "markdown",
   "metadata": {},
   "source": [
    "---\n",
    "\n",
    "**`sub_reigon_1` is states**"
   ]
  },
  {
   "cell_type": "code",
   "execution_count": 9,
   "metadata": {},
   "outputs": [
    {
     "data": {
      "text/plain": [
       "array([nan, 'Alabama', 'Alaska', 'Arizona', 'Arkansas', 'California',\n",
       "       'Colorado', 'Connecticut', 'Delaware', 'District of Columbia',\n",
       "       'Florida', 'Georgia', 'Hawaii', 'Idaho', 'Illinois', 'Indiana',\n",
       "       'Iowa', 'Kansas', 'Kentucky', 'Louisiana', 'Maine', 'Maryland',\n",
       "       'Massachusetts', 'Michigan', 'Minnesota', 'Mississippi',\n",
       "       'Missouri', 'Montana', 'Nebraska', 'Nevada', 'New Hampshire',\n",
       "       'New Jersey', 'New Mexico', 'New York', 'North Carolina',\n",
       "       'North Dakota', 'Ohio', 'Oklahoma', 'Oregon', 'Pennsylvania',\n",
       "       'Rhode Island', 'South Carolina', 'South Dakota', 'Tennessee',\n",
       "       'Texas', 'Utah', 'Vermont', 'Virginia', 'Washington',\n",
       "       'West Virginia', 'Wisconsin', 'Wyoming'], dtype=object)"
      ]
     },
     "execution_count": 9,
     "metadata": {},
     "output_type": "execute_result"
    }
   ],
   "source": [
    "usaDf[\"sub_region_1\"].unique()"
   ]
  },
  {
   "cell_type": "markdown",
   "metadata": {},
   "source": [
    "---\n",
    "\n",
    "**`sub_region_2` is counties - of which there are 1,719**"
   ]
  },
  {
   "cell_type": "code",
   "execution_count": 10,
   "metadata": {},
   "outputs": [
    {
     "data": {
      "text/plain": [
       "array([nan, 'Autauga County', 'Baldwin County', ..., 'Uinta County',\n",
       "       'Washakie County', 'Weston County'], dtype=object)"
      ]
     },
     "execution_count": 10,
     "metadata": {},
     "output_type": "execute_result"
    }
   ],
   "source": [
    "usaDf[\"sub_region_2\"].unique()"
   ]
  },
  {
   "cell_type": "code",
   "execution_count": 11,
   "metadata": {},
   "outputs": [
    {
     "data": {
      "text/plain": [
       "1719"
      ]
     },
     "execution_count": 11,
     "metadata": {},
     "output_type": "execute_result"
    }
   ],
   "source": [
    "len(usaDf[\"sub_region_2\"].unique())"
   ]
  },
  {
   "cell_type": "markdown",
   "metadata": {},
   "source": [
    "---\n",
    "\n",
    "**`metro_area` is not used**"
   ]
  },
  {
   "cell_type": "code",
   "execution_count": 13,
   "metadata": {},
   "outputs": [
    {
     "data": {
      "text/plain": [
       "array([nan])"
      ]
     },
     "execution_count": 13,
     "metadata": {},
     "output_type": "execute_result"
    }
   ],
   "source": [
    "usaDf[\"metro_area\"].unique()"
   ]
  },
  {
   "cell_type": "markdown",
   "metadata": {},
   "source": [
    "---\n",
    "\n",
    "**`iso_3166_2_code` is used and relates to States.**"
   ]
  },
  {
   "cell_type": "code",
   "execution_count": 14,
   "metadata": {},
   "outputs": [
    {
     "data": {
      "text/plain": [
       "array([nan, 'US-AL', 'US-AK', 'US-AZ', 'US-AR', 'US-CA', 'US-CO', 'US-CT',\n",
       "       'US-DE', 'US-DC', 'US-FL', 'US-GA', 'US-HI', 'US-ID', 'US-IL',\n",
       "       'US-IN', 'US-IA', 'US-KS', 'US-KY', 'US-LA', 'US-ME', 'US-MD',\n",
       "       'US-MA', 'US-MI', 'US-MN', 'US-MS', 'US-MO', 'US-MT', 'US-NE',\n",
       "       'US-NV', 'US-NH', 'US-NJ', 'US-NM', 'US-NY', 'US-NC', 'US-ND',\n",
       "       'US-OH', 'US-OK', 'US-OR', 'US-PA', 'US-RI', 'US-SC', 'US-SD',\n",
       "       'US-TN', 'US-TX', 'US-UT', 'US-VT', 'US-VA', 'US-WA', 'US-WV',\n",
       "       'US-WI', 'US-WY'], dtype=object)"
      ]
     },
     "execution_count": 14,
     "metadata": {},
     "output_type": "execute_result"
    }
   ],
   "source": [
    "usaDf[\"iso_3166_2_code\"].unique()"
   ]
  },
  {
   "cell_type": "markdown",
   "metadata": {},
   "source": [
    "---\n",
    "\n",
    "**`census_fips_code` is present and could be used as an alternative to `place_id`**"
   ]
  },
  {
   "cell_type": "code",
   "execution_count": 15,
   "metadata": {},
   "outputs": [
    {
     "data": {
      "text/plain": [
       "array([   nan,  1001.,  1003., ..., 56041., 56043., 56045.])"
      ]
     },
     "execution_count": 15,
     "metadata": {},
     "output_type": "execute_result"
    }
   ],
   "source": [
    "usaDf[\"census_fips_code\"].unique()"
   ]
  },
  {
   "cell_type": "markdown",
   "metadata": {},
   "source": [
    "---\n",
    "\n",
    "## Create a new data frame containing just the rows with `sub_region_2`"
   ]
  },
  {
   "cell_type": "code",
   "execution_count": 27,
   "metadata": {},
   "outputs": [
    {
     "data": {
      "text/plain": [
       "2889"
      ]
     },
     "execution_count": 27,
     "metadata": {},
     "output_type": "execute_result"
    }
   ],
   "source": [
    "len(usaDf[\"place_id\"].unique())"
   ]
  },
  {
   "cell_type": "code",
   "execution_count": 25,
   "metadata": {},
   "outputs": [],
   "source": [
    "usaSubRegion2Df = usaDf[usaDf[\"sub_region_2\"].notnull()]"
   ]
  },
  {
   "cell_type": "code",
   "execution_count": 28,
   "metadata": {},
   "outputs": [
    {
     "data": {
      "text/plain": [
       "2837"
      ]
     },
     "execution_count": 28,
     "metadata": {},
     "output_type": "execute_result"
    }
   ],
   "source": [
    "len(usaSubRegion2Df[\"place_id\"].unique())"
   ]
  },
  {
   "cell_type": "markdown",
   "metadata": {},
   "source": [
    "We now have 2,837 rows instead of 2,889. Not a great reduction..."
   ]
  },
  {
   "cell_type": "markdown",
   "metadata": {},
   "source": [
    "---\n",
    "\n",
    "## Get the lat long coordinates for each unique `place_id`"
   ]
  },
  {
   "cell_type": "code",
   "execution_count": 29,
   "metadata": {},
   "outputs": [],
   "source": [
    "uniquePlaceIdsDf = usaSubRegion2Df[[\"place_id\"]].drop_duplicates()"
   ]
  },
  {
   "cell_type": "markdown",
   "metadata": {},
   "source": [
    "Access the google maps api to get coordinates for each `place_id`"
   ]
  },
  {
   "cell_type": "code",
   "execution_count": 30,
   "metadata": {},
   "outputs": [],
   "source": [
    "with open('./secrets/googleapikey.txt', 'r') as f:\n",
    "    key = f.read()"
   ]
  },
  {
   "cell_type": "code",
   "execution_count": 31,
   "metadata": {},
   "outputs": [],
   "source": [
    "def get_lat_long(place_id):\n",
    "    try:\n",
    "        API_KEY = key.rstrip(\"\\n\")\n",
    "        url = \"https://maps.googleapis.com/maps/api/place/details/json?place_id=\" + str(place_id) + \"&key=\" + str(API_KEY) + \"&fields=geometry\"\n",
    "        \n",
    "        response = (requests.get(url).text)\n",
    "        response_json = json.loads(response)\n",
    "        \n",
    "        if \"result\" in response_json:\n",
    "            result = response_json[\"result\"]\n",
    "            if \"geometry\" in result:\n",
    "                geometry = result[\"geometry\"]\n",
    "                if \"location\" in geometry:\n",
    "                    location = geometry[\"location\"]\n",
    "                    return location[\"lat\"], location[\"lng\"]\n",
    "                else:\n",
    "                    return None, None\n",
    "            else:\n",
    "                return None, None\n",
    "        else:\n",
    "            return None, None\n",
    "    \n",
    "    except Exception as e:\n",
    "        raise e"
   ]
  },
  {
   "cell_type": "code",
   "execution_count": 32,
   "metadata": {},
   "outputs": [],
   "source": [
    "uniquePlaceIdsDf.loc[:, \"lat\"], uniquePlaceIdsDf.loc[:, \"lng\"] = zip(*uniquePlaceIdsDf['place_id'].map(get_lat_long))"
   ]
  },
  {
   "cell_type": "code",
   "execution_count": 33,
   "metadata": {},
   "outputs": [
    {
     "data": {
      "text/html": [
       "<div>\n",
       "<style scoped>\n",
       "    .dataframe tbody tr th:only-of-type {\n",
       "        vertical-align: middle;\n",
       "    }\n",
       "\n",
       "    .dataframe tbody tr th {\n",
       "        vertical-align: top;\n",
       "    }\n",
       "\n",
       "    .dataframe thead th {\n",
       "        text-align: right;\n",
       "    }\n",
       "</style>\n",
       "<table border=\"1\" class=\"dataframe\">\n",
       "  <thead>\n",
       "    <tr style=\"text-align: right;\">\n",
       "      <th></th>\n",
       "      <th>place_id</th>\n",
       "      <th>lat</th>\n",
       "      <th>lng</th>\n",
       "    </tr>\n",
       "  </thead>\n",
       "  <tbody>\n",
       "    <tr>\n",
       "      <td>924</td>\n",
       "      <td>ChIJg9z7ewWPjogRA_8QrB0va7o</td>\n",
       "      <td>32.579182</td>\n",
       "      <td>-86.499655</td>\n",
       "    </tr>\n",
       "    <tr>\n",
       "      <td>1380</td>\n",
       "      <td>ChIJMRERvxBnmogR0K_9O08dxDw</td>\n",
       "      <td>30.601074</td>\n",
       "      <td>-87.776333</td>\n",
       "    </tr>\n",
       "    <tr>\n",
       "      <td>1842</td>\n",
       "      <td>ChIJtUJfgR1tjYgRAjFO7yq2nuI</td>\n",
       "      <td>31.817290</td>\n",
       "      <td>-85.354965</td>\n",
       "    </tr>\n",
       "    <tr>\n",
       "      <td>2279</td>\n",
       "      <td>ChIJEdvIA8szj4gRU_XpIL_1cSw</td>\n",
       "      <td>32.956280</td>\n",
       "      <td>-87.142289</td>\n",
       "    </tr>\n",
       "    <tr>\n",
       "      <td>2716</td>\n",
       "      <td>ChIJdcUJhYeXiYgRERpotPlZFfs</td>\n",
       "      <td>34.014515</td>\n",
       "      <td>-86.499655</td>\n",
       "    </tr>\n",
       "  </tbody>\n",
       "</table>\n",
       "</div>"
      ],
      "text/plain": [
       "                         place_id        lat        lng\n",
       "924   ChIJg9z7ewWPjogRA_8QrB0va7o  32.579182 -86.499655\n",
       "1380  ChIJMRERvxBnmogR0K_9O08dxDw  30.601074 -87.776333\n",
       "1842  ChIJtUJfgR1tjYgRAjFO7yq2nuI  31.817290 -85.354965\n",
       "2279  ChIJEdvIA8szj4gRU_XpIL_1cSw  32.956280 -87.142289\n",
       "2716  ChIJdcUJhYeXiYgRERpotPlZFfs  34.014515 -86.499655"
      ]
     },
     "execution_count": 33,
     "metadata": {},
     "output_type": "execute_result"
    }
   ],
   "source": [
    "uniquePlaceIdsDf.head()"
   ]
  },
  {
   "cell_type": "markdown",
   "metadata": {},
   "source": [
    "I'll save these coordinates as a CSV file for later use."
   ]
  },
  {
   "cell_type": "code",
   "execution_count": 34,
   "metadata": {},
   "outputs": [],
   "source": [
    "uniquePlaceIdsDf.to_csv(\"./output-data/usa-sub-region-2-lat-lng.csv\", index=False)"
   ]
  },
  {
   "cell_type": "code",
   "execution_count": 35,
   "metadata": {},
   "outputs": [
    {
     "data": {
      "text/plain": [
       "2837"
      ]
     },
     "execution_count": 35,
     "metadata": {},
     "output_type": "execute_result"
    }
   ],
   "source": [
    "len(uniquePlaceIdsDf)"
   ]
  },
  {
   "cell_type": "markdown",
   "metadata": {},
   "source": [
    "---\n",
    "\n",
    "## Merge the coordinates with the original `sub_region_2` data frame"
   ]
  },
  {
   "cell_type": "code",
   "execution_count": 36,
   "metadata": {},
   "outputs": [],
   "source": [
    "usaSubRegion2MergeDf = pd.merge(usaSubRegion2Df, uniquePlaceIdsDf, on='place_id', how='outer')"
   ]
  },
  {
   "cell_type": "code",
   "execution_count": 37,
   "metadata": {},
   "outputs": [
    {
     "data": {
      "text/html": [
       "<div>\n",
       "<style scoped>\n",
       "    .dataframe tbody tr th:only-of-type {\n",
       "        vertical-align: middle;\n",
       "    }\n",
       "\n",
       "    .dataframe tbody tr th {\n",
       "        vertical-align: top;\n",
       "    }\n",
       "\n",
       "    .dataframe thead th {\n",
       "        text-align: right;\n",
       "    }\n",
       "</style>\n",
       "<table border=\"1\" class=\"dataframe\">\n",
       "  <thead>\n",
       "    <tr style=\"text-align: right;\">\n",
       "      <th></th>\n",
       "      <th>country_region_code</th>\n",
       "      <th>country_region</th>\n",
       "      <th>sub_region_1</th>\n",
       "      <th>sub_region_2</th>\n",
       "      <th>metro_area</th>\n",
       "      <th>iso_3166_2_code</th>\n",
       "      <th>census_fips_code</th>\n",
       "      <th>place_id</th>\n",
       "      <th>date</th>\n",
       "      <th>retail_and_recreation_percent_change_from_baseline</th>\n",
       "      <th>grocery_and_pharmacy_percent_change_from_baseline</th>\n",
       "      <th>parks_percent_change_from_baseline</th>\n",
       "      <th>transit_stations_percent_change_from_baseline</th>\n",
       "      <th>workplaces_percent_change_from_baseline</th>\n",
       "      <th>residential_percent_change_from_baseline</th>\n",
       "      <th>lat</th>\n",
       "      <th>lng</th>\n",
       "    </tr>\n",
       "  </thead>\n",
       "  <tbody>\n",
       "    <tr>\n",
       "      <td>0</td>\n",
       "      <td>US</td>\n",
       "      <td>United States</td>\n",
       "      <td>Alabama</td>\n",
       "      <td>Autauga County</td>\n",
       "      <td>NaN</td>\n",
       "      <td>NaN</td>\n",
       "      <td>1001.0</td>\n",
       "      <td>ChIJg9z7ewWPjogRA_8QrB0va7o</td>\n",
       "      <td>2020-02-15</td>\n",
       "      <td>5.0</td>\n",
       "      <td>7.0</td>\n",
       "      <td>NaN</td>\n",
       "      <td>NaN</td>\n",
       "      <td>-4.0</td>\n",
       "      <td>NaN</td>\n",
       "      <td>32.579182</td>\n",
       "      <td>-86.499655</td>\n",
       "    </tr>\n",
       "    <tr>\n",
       "      <td>1</td>\n",
       "      <td>US</td>\n",
       "      <td>United States</td>\n",
       "      <td>Alabama</td>\n",
       "      <td>Autauga County</td>\n",
       "      <td>NaN</td>\n",
       "      <td>NaN</td>\n",
       "      <td>1001.0</td>\n",
       "      <td>ChIJg9z7ewWPjogRA_8QrB0va7o</td>\n",
       "      <td>2020-02-16</td>\n",
       "      <td>0.0</td>\n",
       "      <td>1.0</td>\n",
       "      <td>-23.0</td>\n",
       "      <td>NaN</td>\n",
       "      <td>-4.0</td>\n",
       "      <td>NaN</td>\n",
       "      <td>32.579182</td>\n",
       "      <td>-86.499655</td>\n",
       "    </tr>\n",
       "    <tr>\n",
       "      <td>2</td>\n",
       "      <td>US</td>\n",
       "      <td>United States</td>\n",
       "      <td>Alabama</td>\n",
       "      <td>Autauga County</td>\n",
       "      <td>NaN</td>\n",
       "      <td>NaN</td>\n",
       "      <td>1001.0</td>\n",
       "      <td>ChIJg9z7ewWPjogRA_8QrB0va7o</td>\n",
       "      <td>2020-02-17</td>\n",
       "      <td>8.0</td>\n",
       "      <td>0.0</td>\n",
       "      <td>NaN</td>\n",
       "      <td>NaN</td>\n",
       "      <td>-27.0</td>\n",
       "      <td>5.0</td>\n",
       "      <td>32.579182</td>\n",
       "      <td>-86.499655</td>\n",
       "    </tr>\n",
       "    <tr>\n",
       "      <td>3</td>\n",
       "      <td>US</td>\n",
       "      <td>United States</td>\n",
       "      <td>Alabama</td>\n",
       "      <td>Autauga County</td>\n",
       "      <td>NaN</td>\n",
       "      <td>NaN</td>\n",
       "      <td>1001.0</td>\n",
       "      <td>ChIJg9z7ewWPjogRA_8QrB0va7o</td>\n",
       "      <td>2020-02-18</td>\n",
       "      <td>-2.0</td>\n",
       "      <td>0.0</td>\n",
       "      <td>NaN</td>\n",
       "      <td>NaN</td>\n",
       "      <td>2.0</td>\n",
       "      <td>0.0</td>\n",
       "      <td>32.579182</td>\n",
       "      <td>-86.499655</td>\n",
       "    </tr>\n",
       "    <tr>\n",
       "      <td>4</td>\n",
       "      <td>US</td>\n",
       "      <td>United States</td>\n",
       "      <td>Alabama</td>\n",
       "      <td>Autauga County</td>\n",
       "      <td>NaN</td>\n",
       "      <td>NaN</td>\n",
       "      <td>1001.0</td>\n",
       "      <td>ChIJg9z7ewWPjogRA_8QrB0va7o</td>\n",
       "      <td>2020-02-19</td>\n",
       "      <td>-2.0</td>\n",
       "      <td>0.0</td>\n",
       "      <td>NaN</td>\n",
       "      <td>NaN</td>\n",
       "      <td>2.0</td>\n",
       "      <td>0.0</td>\n",
       "      <td>32.579182</td>\n",
       "      <td>-86.499655</td>\n",
       "    </tr>\n",
       "  </tbody>\n",
       "</table>\n",
       "</div>"
      ],
      "text/plain": [
       "  country_region_code country_region sub_region_1    sub_region_2  metro_area  \\\n",
       "0                  US  United States      Alabama  Autauga County         NaN   \n",
       "1                  US  United States      Alabama  Autauga County         NaN   \n",
       "2                  US  United States      Alabama  Autauga County         NaN   \n",
       "3                  US  United States      Alabama  Autauga County         NaN   \n",
       "4                  US  United States      Alabama  Autauga County         NaN   \n",
       "\n",
       "  iso_3166_2_code  census_fips_code                     place_id        date  \\\n",
       "0             NaN            1001.0  ChIJg9z7ewWPjogRA_8QrB0va7o  2020-02-15   \n",
       "1             NaN            1001.0  ChIJg9z7ewWPjogRA_8QrB0va7o  2020-02-16   \n",
       "2             NaN            1001.0  ChIJg9z7ewWPjogRA_8QrB0va7o  2020-02-17   \n",
       "3             NaN            1001.0  ChIJg9z7ewWPjogRA_8QrB0va7o  2020-02-18   \n",
       "4             NaN            1001.0  ChIJg9z7ewWPjogRA_8QrB0va7o  2020-02-19   \n",
       "\n",
       "   retail_and_recreation_percent_change_from_baseline  \\\n",
       "0                                                5.0    \n",
       "1                                                0.0    \n",
       "2                                                8.0    \n",
       "3                                               -2.0    \n",
       "4                                               -2.0    \n",
       "\n",
       "   grocery_and_pharmacy_percent_change_from_baseline  \\\n",
       "0                                                7.0   \n",
       "1                                                1.0   \n",
       "2                                                0.0   \n",
       "3                                                0.0   \n",
       "4                                                0.0   \n",
       "\n",
       "   parks_percent_change_from_baseline  \\\n",
       "0                                 NaN   \n",
       "1                               -23.0   \n",
       "2                                 NaN   \n",
       "3                                 NaN   \n",
       "4                                 NaN   \n",
       "\n",
       "   transit_stations_percent_change_from_baseline  \\\n",
       "0                                            NaN   \n",
       "1                                            NaN   \n",
       "2                                            NaN   \n",
       "3                                            NaN   \n",
       "4                                            NaN   \n",
       "\n",
       "   workplaces_percent_change_from_baseline  \\\n",
       "0                                     -4.0   \n",
       "1                                     -4.0   \n",
       "2                                    -27.0   \n",
       "3                                      2.0   \n",
       "4                                      2.0   \n",
       "\n",
       "   residential_percent_change_from_baseline        lat        lng  \n",
       "0                                       NaN  32.579182 -86.499655  \n",
       "1                                       NaN  32.579182 -86.499655  \n",
       "2                                       5.0  32.579182 -86.499655  \n",
       "3                                       0.0  32.579182 -86.499655  \n",
       "4                                       0.0  32.579182 -86.499655  "
      ]
     },
     "execution_count": 37,
     "metadata": {},
     "output_type": "execute_result"
    }
   ],
   "source": [
    "usaSubRegion2MergeDf.head()"
   ]
  },
  {
   "cell_type": "markdown",
   "metadata": {},
   "source": [
    "---\n",
    "\n",
    "## Calculate 7 day rolling averages for each location"
   ]
  },
  {
   "cell_type": "code",
   "execution_count": 48,
   "metadata": {},
   "outputs": [],
   "source": [
    "def add_rolling_average(df):\n",
    "    df.loc[:, \"retail-average\"] = df[\"retail_and_recreation_percent_change_from_baseline\"].rolling(window=7, center=True).mean()\n",
    "    df.loc[:, \"grocery-average\"] = df[\"grocery_and_pharmacy_percent_change_from_baseline\"].rolling(window=7, center=True).mean()\n",
    "    df.loc[:, \"parks-average\"] = df[\"parks_percent_change_from_baseline\"].rolling(window=7, center=True).mean()\n",
    "    df.loc[:, \"transit-average\"] = df[\"transit_stations_percent_change_from_baseline\"].rolling(window=7, center=True).mean()\n",
    "    df.loc[:, \"workplace-average\"] = df[\"workplaces_percent_change_from_baseline\"].rolling(window=7, center=True).mean()\n",
    "    df.loc[:, \"residential-average\"] = df[\"residential_percent_change_from_baseline\"].rolling(window=7, center=True).mean()\n",
    "    \n",
    "    return df"
   ]
  },
  {
   "cell_type": "code",
   "execution_count": 49,
   "metadata": {},
   "outputs": [],
   "source": [
    "usaSubRegion2AverageDf = usaSubRegion2MergeDf.groupby(\"place_id\").apply(add_rolling_average)"
   ]
  },
  {
   "cell_type": "code",
   "execution_count": 54,
   "metadata": {},
   "outputs": [
    {
     "data": {
      "text/html": [
       "<div>\n",
       "<style scoped>\n",
       "    .dataframe tbody tr th:only-of-type {\n",
       "        vertical-align: middle;\n",
       "    }\n",
       "\n",
       "    .dataframe tbody tr th {\n",
       "        vertical-align: top;\n",
       "    }\n",
       "\n",
       "    .dataframe thead th {\n",
       "        text-align: right;\n",
       "    }\n",
       "</style>\n",
       "<table border=\"1\" class=\"dataframe\">\n",
       "  <thead>\n",
       "    <tr style=\"text-align: right;\">\n",
       "      <th></th>\n",
       "      <th>country_region_code</th>\n",
       "      <th>country_region</th>\n",
       "      <th>sub_region_1</th>\n",
       "      <th>sub_region_2</th>\n",
       "      <th>metro_area</th>\n",
       "      <th>iso_3166_2_code</th>\n",
       "      <th>census_fips_code</th>\n",
       "      <th>place_id</th>\n",
       "      <th>date</th>\n",
       "      <th>retail_and_recreation_percent_change_from_baseline</th>\n",
       "      <th>...</th>\n",
       "      <th>workplaces_percent_change_from_baseline</th>\n",
       "      <th>residential_percent_change_from_baseline</th>\n",
       "      <th>lat</th>\n",
       "      <th>lng</th>\n",
       "      <th>retail-average</th>\n",
       "      <th>grocery-average</th>\n",
       "      <th>parks-average</th>\n",
       "      <th>transit-average</th>\n",
       "      <th>workplace-average</th>\n",
       "      <th>residential-average</th>\n",
       "    </tr>\n",
       "  </thead>\n",
       "  <tbody>\n",
       "    <tr>\n",
       "      <td>1000000</td>\n",
       "      <td>US</td>\n",
       "      <td>United States</td>\n",
       "      <td>Texas</td>\n",
       "      <td>Taylor County</td>\n",
       "      <td>NaN</td>\n",
       "      <td>NaN</td>\n",
       "      <td>48441.0</td>\n",
       "      <td>ChIJNfnP60m-VoYRN7ziFE_S9ic</td>\n",
       "      <td>2021-02-09</td>\n",
       "      <td>-12.0</td>\n",
       "      <td>...</td>\n",
       "      <td>-19.0</td>\n",
       "      <td>6.0</td>\n",
       "      <td>32.245509</td>\n",
       "      <td>-99.812494</td>\n",
       "      <td>-19.714286</td>\n",
       "      <td>-6.428571</td>\n",
       "      <td>NaN</td>\n",
       "      <td>4.428571</td>\n",
       "      <td>-22.000000</td>\n",
       "      <td>9.142857</td>\n",
       "    </tr>\n",
       "    <tr>\n",
       "      <td>1000001</td>\n",
       "      <td>US</td>\n",
       "      <td>United States</td>\n",
       "      <td>Texas</td>\n",
       "      <td>Taylor County</td>\n",
       "      <td>NaN</td>\n",
       "      <td>NaN</td>\n",
       "      <td>48441.0</td>\n",
       "      <td>ChIJNfnP60m-VoYRN7ziFE_S9ic</td>\n",
       "      <td>2021-02-10</td>\n",
       "      <td>-23.0</td>\n",
       "      <td>...</td>\n",
       "      <td>-22.0</td>\n",
       "      <td>10.0</td>\n",
       "      <td>32.245509</td>\n",
       "      <td>-99.812494</td>\n",
       "      <td>-23.857143</td>\n",
       "      <td>-7.857143</td>\n",
       "      <td>NaN</td>\n",
       "      <td>1.571429</td>\n",
       "      <td>-23.857143</td>\n",
       "      <td>10.285714</td>\n",
       "    </tr>\n",
       "    <tr>\n",
       "      <td>1000002</td>\n",
       "      <td>US</td>\n",
       "      <td>United States</td>\n",
       "      <td>Texas</td>\n",
       "      <td>Taylor County</td>\n",
       "      <td>NaN</td>\n",
       "      <td>NaN</td>\n",
       "      <td>48441.0</td>\n",
       "      <td>ChIJNfnP60m-VoYRN7ziFE_S9ic</td>\n",
       "      <td>2021-02-11</td>\n",
       "      <td>-38.0</td>\n",
       "      <td>...</td>\n",
       "      <td>-46.0</td>\n",
       "      <td>21.0</td>\n",
       "      <td>32.245509</td>\n",
       "      <td>-99.812494</td>\n",
       "      <td>-32.142857</td>\n",
       "      <td>-14.428571</td>\n",
       "      <td>NaN</td>\n",
       "      <td>-5.142857</td>\n",
       "      <td>-29.571429</td>\n",
       "      <td>12.428571</td>\n",
       "    </tr>\n",
       "    <tr>\n",
       "      <td>1000003</td>\n",
       "      <td>US</td>\n",
       "      <td>United States</td>\n",
       "      <td>Texas</td>\n",
       "      <td>Taylor County</td>\n",
       "      <td>NaN</td>\n",
       "      <td>NaN</td>\n",
       "      <td>48441.0</td>\n",
       "      <td>ChIJNfnP60m-VoYRN7ziFE_S9ic</td>\n",
       "      <td>2021-02-12</td>\n",
       "      <td>-24.0</td>\n",
       "      <td>...</td>\n",
       "      <td>-27.0</td>\n",
       "      <td>14.0</td>\n",
       "      <td>32.245509</td>\n",
       "      <td>-99.812494</td>\n",
       "      <td>-39.142857</td>\n",
       "      <td>-17.142857</td>\n",
       "      <td>NaN</td>\n",
       "      <td>-12.857143</td>\n",
       "      <td>-38.571429</td>\n",
       "      <td>15.142857</td>\n",
       "    </tr>\n",
       "    <tr>\n",
       "      <td>1000004</td>\n",
       "      <td>US</td>\n",
       "      <td>United States</td>\n",
       "      <td>Texas</td>\n",
       "      <td>Taylor County</td>\n",
       "      <td>NaN</td>\n",
       "      <td>NaN</td>\n",
       "      <td>48441.0</td>\n",
       "      <td>ChIJNfnP60m-VoYRN7ziFE_S9ic</td>\n",
       "      <td>2021-02-13</td>\n",
       "      <td>-39.0</td>\n",
       "      <td>...</td>\n",
       "      <td>-24.0</td>\n",
       "      <td>12.0</td>\n",
       "      <td>32.245509</td>\n",
       "      <td>-99.812494</td>\n",
       "      <td>-47.000000</td>\n",
       "      <td>-17.428571</td>\n",
       "      <td>NaN</td>\n",
       "      <td>-24.142857</td>\n",
       "      <td>-47.142857</td>\n",
       "      <td>16.857143</td>\n",
       "    </tr>\n",
       "  </tbody>\n",
       "</table>\n",
       "<p>5 rows × 23 columns</p>\n",
       "</div>"
      ],
      "text/plain": [
       "        country_region_code country_region sub_region_1   sub_region_2  \\\n",
       "1000000                  US  United States        Texas  Taylor County   \n",
       "1000001                  US  United States        Texas  Taylor County   \n",
       "1000002                  US  United States        Texas  Taylor County   \n",
       "1000003                  US  United States        Texas  Taylor County   \n",
       "1000004                  US  United States        Texas  Taylor County   \n",
       "\n",
       "         metro_area iso_3166_2_code  census_fips_code  \\\n",
       "1000000         NaN             NaN           48441.0   \n",
       "1000001         NaN             NaN           48441.0   \n",
       "1000002         NaN             NaN           48441.0   \n",
       "1000003         NaN             NaN           48441.0   \n",
       "1000004         NaN             NaN           48441.0   \n",
       "\n",
       "                            place_id        date  \\\n",
       "1000000  ChIJNfnP60m-VoYRN7ziFE_S9ic  2021-02-09   \n",
       "1000001  ChIJNfnP60m-VoYRN7ziFE_S9ic  2021-02-10   \n",
       "1000002  ChIJNfnP60m-VoYRN7ziFE_S9ic  2021-02-11   \n",
       "1000003  ChIJNfnP60m-VoYRN7ziFE_S9ic  2021-02-12   \n",
       "1000004  ChIJNfnP60m-VoYRN7ziFE_S9ic  2021-02-13   \n",
       "\n",
       "         retail_and_recreation_percent_change_from_baseline  ...  \\\n",
       "1000000                                              -12.0   ...   \n",
       "1000001                                              -23.0   ...   \n",
       "1000002                                              -38.0   ...   \n",
       "1000003                                              -24.0   ...   \n",
       "1000004                                              -39.0   ...   \n",
       "\n",
       "         workplaces_percent_change_from_baseline  \\\n",
       "1000000                                    -19.0   \n",
       "1000001                                    -22.0   \n",
       "1000002                                    -46.0   \n",
       "1000003                                    -27.0   \n",
       "1000004                                    -24.0   \n",
       "\n",
       "         residential_percent_change_from_baseline        lat        lng  \\\n",
       "1000000                                       6.0  32.245509 -99.812494   \n",
       "1000001                                      10.0  32.245509 -99.812494   \n",
       "1000002                                      21.0  32.245509 -99.812494   \n",
       "1000003                                      14.0  32.245509 -99.812494   \n",
       "1000004                                      12.0  32.245509 -99.812494   \n",
       "\n",
       "         retail-average  grocery-average  parks-average  transit-average  \\\n",
       "1000000      -19.714286        -6.428571            NaN         4.428571   \n",
       "1000001      -23.857143        -7.857143            NaN         1.571429   \n",
       "1000002      -32.142857       -14.428571            NaN        -5.142857   \n",
       "1000003      -39.142857       -17.142857            NaN       -12.857143   \n",
       "1000004      -47.000000       -17.428571            NaN       -24.142857   \n",
       "\n",
       "         workplace-average  residential-average  \n",
       "1000000         -22.000000             9.142857  \n",
       "1000001         -23.857143            10.285714  \n",
       "1000002         -29.571429            12.428571  \n",
       "1000003         -38.571429            15.142857  \n",
       "1000004         -47.142857            16.857143  \n",
       "\n",
       "[5 rows x 23 columns]"
      ]
     },
     "execution_count": 54,
     "metadata": {},
     "output_type": "execute_result"
    }
   ],
   "source": [
    "usaSubRegion2AverageDf[1000000:1000005]"
   ]
  },
  {
   "cell_type": "markdown",
   "metadata": {},
   "source": [
    "---\n",
    "\n",
    "## Round the average figures to 1 decimal place for a smaller final file size"
   ]
  },
  {
   "cell_type": "code",
   "execution_count": 59,
   "metadata": {},
   "outputs": [],
   "source": [
    "usaSubRegion2RoundedDf = usaSubRegion2AverageDf.round({\n",
    "    'retail-average': 1,\n",
    "    'grocery-average': 1,\n",
    "    'parks-average': 1,\n",
    "    'transit-average': 1,\n",
    "    'workplace-average': 1,\n",
    "    'residential-average': 1\n",
    "})"
   ]
  },
  {
   "cell_type": "markdown",
   "metadata": {},
   "source": [
    "---\n",
    "\n",
    "## Remove any NaN `place_id`s"
   ]
  },
  {
   "cell_type": "code",
   "execution_count": 61,
   "metadata": {},
   "outputs": [],
   "source": [
    "usaSubRegion2NotNaDf = usaSubRegion2RoundedDf[usaSubRegion2RoundedDf[\"place_id\"].notna(\n",
    ")]"
   ]
  },
  {
   "cell_type": "markdown",
   "metadata": {},
   "source": [
    "---\n",
    "\n",
    "## Convert the data into a python dictionary so it can be exported as json"
   ]
  },
  {
   "cell_type": "code",
   "execution_count": 109,
   "metadata": {},
   "outputs": [],
   "source": [
    "def create_list_for_json(df):\n",
    "    outputList = []\n",
    "    listOfPlaceIds = df[\"place_id\"].drop_duplicates().to_list()\n",
    "    groupByPlaceId = df.groupby(\"place_id\")\n",
    "    \n",
    "    for place_id in listOfPlaceIds:\n",
    "        thisDf = groupByPlaceId.get_group(place_id)\n",
    "        parksList = thisDf[\"parks-average\"].to_list()\n",
    "        \n",
    "        # Some of the parks columns contain all NaNs, we'll skip these\n",
    "        if np.isnan(parksList).all():\n",
    "            continue\n",
    "        \n",
    "        myDict = {}\n",
    "        myDict['lng'] = thisDf.iloc[0][\"lng\"]\n",
    "        myDict[\"lat\"] =  thisDf.iloc[0][\"lat\"]\n",
    "\n",
    "        # parks_percent_change_from_baseline\n",
    "        myDict[\"parks\"] = parksList\n",
    "\n",
    "        outputList.append(myDict)\n",
    "        \n",
    "    return outputList"
   ]
  },
  {
   "cell_type": "code",
   "execution_count": 110,
   "metadata": {},
   "outputs": [],
   "source": [
    "usaSubRegion2List = create_list_for_json(usaSubRegion2NotNaDf)"
   ]
  },
  {
   "cell_type": "code",
   "execution_count": 111,
   "metadata": {},
   "outputs": [
    {
     "data": {
      "text/plain": [
       "666"
      ]
     },
     "execution_count": 111,
     "metadata": {},
     "output_type": "execute_result"
    }
   ],
   "source": [
    "len(usaSubRegion2List)"
   ]
  },
  {
   "cell_type": "markdown",
   "metadata": {},
   "source": [
    "Also get a list of the dates for reference. Taking the dates from the first `place_id`."
   ]
  },
  {
   "cell_type": "code",
   "execution_count": 112,
   "metadata": {},
   "outputs": [],
   "source": [
    "dateList = usaSubRegion2NotNaDf[usaSubRegion2NotNaDf[\"place_id\"] == \"ChIJNfnP60m-VoYRN7ziFE_S9ic\"][\"date\"].to_list()"
   ]
  },
  {
   "cell_type": "markdown",
   "metadata": {},
   "source": [
    "Add the data and the dates to a new dataframe for export"
   ]
  },
  {
   "cell_type": "code",
   "execution_count": 113,
   "metadata": {},
   "outputs": [],
   "source": [
    "exportDf = {}"
   ]
  },
  {
   "cell_type": "code",
   "execution_count": 114,
   "metadata": {},
   "outputs": [],
   "source": [
    "exportDf[\"data\"] = usaSubRegion2List"
   ]
  },
  {
   "cell_type": "code",
   "execution_count": 115,
   "metadata": {},
   "outputs": [],
   "source": [
    "exportDf[\"dates\"] = dateList"
   ]
  },
  {
   "cell_type": "code",
   "execution_count": 117,
   "metadata": {},
   "outputs": [],
   "source": [
    "with open(\"./public/data/usa-parks.json\", \"w\") as outfile: \n",
    "    json.dump(exportDf, outfile, ignore_nan=True)"
   ]
  }
 ],
 "metadata": {
  "kernelspec": {
   "display_name": "Python 3",
   "language": "python",
   "name": "python3"
  },
  "language_info": {
   "codemirror_mode": {
    "name": "ipython",
    "version": 3
   },
   "file_extension": ".py",
   "mimetype": "text/x-python",
   "name": "python",
   "nbconvert_exporter": "python",
   "pygments_lexer": "ipython3",
   "version": "3.7.4"
  }
 },
 "nbformat": 4,
 "nbformat_minor": 2
}
